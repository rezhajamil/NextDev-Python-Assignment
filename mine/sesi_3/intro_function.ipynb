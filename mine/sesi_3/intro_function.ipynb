{
 "cells": [
  {
   "cell_type": "code",
   "execution_count": 1,
   "metadata": {},
   "outputs": [
    {
     "name": "stdout",
     "output_type": "stream",
     "text": [
      "Selamat Pagi\n",
      "Selamat Siang\n",
      "Selamat Malam\n",
      "Selamat Berakit\n"
     ]
    }
   ],
   "source": [
    "def sapa():\n",
    "    print(\"Selamat Pagi\")\n",
    "    print(\"Selamat Siang\")\n",
    "    print(\"Selamat Malam\")\n",
    "    print(\"Selamat Berakit\")\n",
    "\n",
    "sapa()"
   ]
  },
  {
   "cell_type": "code",
   "execution_count": 2,
   "metadata": {},
   "outputs": [
    {
     "name": "stdout",
     "output_type": "stream",
     "text": [
      "1\n",
      "2\n"
     ]
    }
   ],
   "source": [
    "a,b=(1,2)\n",
    "print(a)\n",
    "print(b)"
   ]
  },
  {
   "cell_type": "code",
   "execution_count": 3,
   "metadata": {},
   "outputs": [],
   "source": [
    "def hitung(nama,usia,**data):\n",
    "    print(nama)\n",
    "    print(usia)\n",
    "    print(data)"
   ]
  },
  {
   "cell_type": "code",
   "execution_count": 5,
   "metadata": {},
   "outputs": [
    {
     "name": "stdout",
     "output_type": "stream",
     "text": [
      "Rezha\n",
      "18\n",
      "{'alamat': 'Jakarta', 'pekerjaan': 'Pelajar'}\n"
     ]
    }
   ],
   "source": [
    "hitung(alamat=\"Jakarta\",pekerjaan=\"Pelajar\",usia=18,nama=\"Rezha\")"
   ]
  },
  {
   "cell_type": "code",
   "execution_count": null,
   "metadata": {},
   "outputs": [],
   "source": []
  }
 ],
 "metadata": {
  "interpreter": {
   "hash": "3a7853f465984184c2db926f12cf0514f49bd82ebd08c64e7d47bb74214f72b4"
  },
  "kernelspec": {
   "display_name": "Python 3.9.7 ('base')",
   "language": "python",
   "name": "python3"
  },
  "language_info": {
   "codemirror_mode": {
    "name": "ipython",
    "version": 3
   },
   "file_extension": ".py",
   "mimetype": "text/x-python",
   "name": "python",
   "nbconvert_exporter": "python",
   "pygments_lexer": "ipython3",
   "version": "3.9.7"
  },
  "orig_nbformat": 4
 },
 "nbformat": 4,
 "nbformat_minor": 2
}
