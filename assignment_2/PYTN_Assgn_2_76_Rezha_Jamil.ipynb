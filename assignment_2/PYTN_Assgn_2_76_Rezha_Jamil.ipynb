{
 "cells": [
  {
   "cell_type": "code",
   "execution_count": 295,
   "metadata": {},
   "outputs": [],
   "source": [
    "# import library yang dibutuhkan\n",
    "import numpy as np\n",
    "import pandas as pd\n",
    "pd.set_option('display.max_columns', None)\n",
    "import matplotlib.pyplot as plt\n",
    "import seaborn as sns\n",
    "sns.set(color_codes=True)\n",
    "sns.set(rc={'figure.figsize':(5,5)})"
   ]
  },
  {
   "cell_type": "markdown",
   "metadata": {},
   "source": [
    "# Load Data, EDA, dan Data Cleansing"
   ]
  },
  {
   "cell_type": "code",
   "execution_count": 296,
   "metadata": {},
   "outputs": [
    {
     "data": {
      "text/html": [
       "<div>\n",
       "<style scoped>\n",
       "    .dataframe tbody tr th:only-of-type {\n",
       "        vertical-align: middle;\n",
       "    }\n",
       "\n",
       "    .dataframe tbody tr th {\n",
       "        vertical-align: top;\n",
       "    }\n",
       "\n",
       "    .dataframe thead th {\n",
       "        text-align: right;\n",
       "    }\n",
       "</style>\n",
       "<table border=\"1\" class=\"dataframe\">\n",
       "  <thead>\n",
       "    <tr style=\"text-align: right;\">\n",
       "      <th></th>\n",
       "      <th>Unnamed: 0</th>\n",
       "      <th>BOROUGH</th>\n",
       "      <th>NEIGHBORHOOD</th>\n",
       "      <th>BUILDING CLASS CATEGORY</th>\n",
       "      <th>TAX CLASS AT PRESENT</th>\n",
       "      <th>BLOCK</th>\n",
       "      <th>LOT</th>\n",
       "      <th>EASE-MENT</th>\n",
       "      <th>BUILDING CLASS AT PRESENT</th>\n",
       "      <th>ADDRESS</th>\n",
       "      <th>APARTMENT NUMBER</th>\n",
       "      <th>ZIP CODE</th>\n",
       "      <th>RESIDENTIAL UNITS</th>\n",
       "      <th>COMMERCIAL UNITS</th>\n",
       "      <th>TOTAL UNITS</th>\n",
       "      <th>LAND SQUARE FEET</th>\n",
       "      <th>GROSS SQUARE FEET</th>\n",
       "      <th>YEAR BUILT</th>\n",
       "      <th>TAX CLASS AT TIME OF SALE</th>\n",
       "      <th>BUILDING CLASS AT TIME OF SALE</th>\n",
       "      <th>SALE PRICE</th>\n",
       "      <th>SALE DATE</th>\n",
       "    </tr>\n",
       "  </thead>\n",
       "  <tbody>\n",
       "    <tr>\n",
       "      <th>0</th>\n",
       "      <td>4</td>\n",
       "      <td>1</td>\n",
       "      <td>ALPHABET CITY</td>\n",
       "      <td>07 RENTALS - WALKUP APARTMENTS</td>\n",
       "      <td>2A</td>\n",
       "      <td>392</td>\n",
       "      <td>6</td>\n",
       "      <td></td>\n",
       "      <td>C2</td>\n",
       "      <td>153 AVENUE B</td>\n",
       "      <td></td>\n",
       "      <td>10009</td>\n",
       "      <td>5</td>\n",
       "      <td>0</td>\n",
       "      <td>5</td>\n",
       "      <td>1633</td>\n",
       "      <td>6440</td>\n",
       "      <td>1900</td>\n",
       "      <td>2</td>\n",
       "      <td>C2</td>\n",
       "      <td>6625000</td>\n",
       "      <td>2017-07-19 00:00:00</td>\n",
       "    </tr>\n",
       "    <tr>\n",
       "      <th>1</th>\n",
       "      <td>5</td>\n",
       "      <td>1</td>\n",
       "      <td>ALPHABET CITY</td>\n",
       "      <td>07 RENTALS - WALKUP APARTMENTS</td>\n",
       "      <td>2</td>\n",
       "      <td>399</td>\n",
       "      <td>26</td>\n",
       "      <td></td>\n",
       "      <td>C7</td>\n",
       "      <td>234 EAST 4TH   STREET</td>\n",
       "      <td></td>\n",
       "      <td>10009</td>\n",
       "      <td>28</td>\n",
       "      <td>3</td>\n",
       "      <td>31</td>\n",
       "      <td>4616</td>\n",
       "      <td>18690</td>\n",
       "      <td>1900</td>\n",
       "      <td>2</td>\n",
       "      <td>C7</td>\n",
       "      <td>-</td>\n",
       "      <td>2016-12-14 00:00:00</td>\n",
       "    </tr>\n",
       "    <tr>\n",
       "      <th>2</th>\n",
       "      <td>6</td>\n",
       "      <td>1</td>\n",
       "      <td>ALPHABET CITY</td>\n",
       "      <td>07 RENTALS - WALKUP APARTMENTS</td>\n",
       "      <td>2</td>\n",
       "      <td>399</td>\n",
       "      <td>39</td>\n",
       "      <td></td>\n",
       "      <td>C7</td>\n",
       "      <td>197 EAST 3RD   STREET</td>\n",
       "      <td></td>\n",
       "      <td>10009</td>\n",
       "      <td>16</td>\n",
       "      <td>1</td>\n",
       "      <td>17</td>\n",
       "      <td>2212</td>\n",
       "      <td>7803</td>\n",
       "      <td>1900</td>\n",
       "      <td>2</td>\n",
       "      <td>C7</td>\n",
       "      <td>-</td>\n",
       "      <td>2016-12-09 00:00:00</td>\n",
       "    </tr>\n",
       "    <tr>\n",
       "      <th>3</th>\n",
       "      <td>7</td>\n",
       "      <td>1</td>\n",
       "      <td>ALPHABET CITY</td>\n",
       "      <td>07 RENTALS - WALKUP APARTMENTS</td>\n",
       "      <td>2B</td>\n",
       "      <td>402</td>\n",
       "      <td>21</td>\n",
       "      <td></td>\n",
       "      <td>C4</td>\n",
       "      <td>154 EAST 7TH STREET</td>\n",
       "      <td></td>\n",
       "      <td>10009</td>\n",
       "      <td>10</td>\n",
       "      <td>0</td>\n",
       "      <td>10</td>\n",
       "      <td>2272</td>\n",
       "      <td>6794</td>\n",
       "      <td>1913</td>\n",
       "      <td>2</td>\n",
       "      <td>C4</td>\n",
       "      <td>3936272</td>\n",
       "      <td>2016-09-23 00:00:00</td>\n",
       "    </tr>\n",
       "    <tr>\n",
       "      <th>4</th>\n",
       "      <td>8</td>\n",
       "      <td>1</td>\n",
       "      <td>ALPHABET CITY</td>\n",
       "      <td>07 RENTALS - WALKUP APARTMENTS</td>\n",
       "      <td>2A</td>\n",
       "      <td>404</td>\n",
       "      <td>55</td>\n",
       "      <td></td>\n",
       "      <td>C2</td>\n",
       "      <td>301 EAST 10TH   STREET</td>\n",
       "      <td></td>\n",
       "      <td>10009</td>\n",
       "      <td>6</td>\n",
       "      <td>0</td>\n",
       "      <td>6</td>\n",
       "      <td>2369</td>\n",
       "      <td>4615</td>\n",
       "      <td>1900</td>\n",
       "      <td>2</td>\n",
       "      <td>C2</td>\n",
       "      <td>8000000</td>\n",
       "      <td>2016-11-17 00:00:00</td>\n",
       "    </tr>\n",
       "  </tbody>\n",
       "</table>\n",
       "</div>"
      ],
      "text/plain": [
       "   Unnamed: 0  BOROUGH   NEIGHBORHOOD  \\\n",
       "0           4        1  ALPHABET CITY   \n",
       "1           5        1  ALPHABET CITY   \n",
       "2           6        1  ALPHABET CITY   \n",
       "3           7        1  ALPHABET CITY   \n",
       "4           8        1  ALPHABET CITY   \n",
       "\n",
       "                       BUILDING CLASS CATEGORY TAX CLASS AT PRESENT  BLOCK  \\\n",
       "0  07 RENTALS - WALKUP APARTMENTS                                2A    392   \n",
       "1  07 RENTALS - WALKUP APARTMENTS                                 2    399   \n",
       "2  07 RENTALS - WALKUP APARTMENTS                                 2    399   \n",
       "3  07 RENTALS - WALKUP APARTMENTS                                2B    402   \n",
       "4  07 RENTALS - WALKUP APARTMENTS                                2A    404   \n",
       "\n",
       "   LOT EASE-MENT BUILDING CLASS AT PRESENT                 ADDRESS  \\\n",
       "0    6                                  C2            153 AVENUE B   \n",
       "1   26                                  C7   234 EAST 4TH   STREET   \n",
       "2   39                                  C7   197 EAST 3RD   STREET   \n",
       "3   21                                  C4     154 EAST 7TH STREET   \n",
       "4   55                                  C2  301 EAST 10TH   STREET   \n",
       "\n",
       "  APARTMENT NUMBER  ZIP CODE  RESIDENTIAL UNITS  COMMERCIAL UNITS  \\\n",
       "0                      10009                  5                 0   \n",
       "1                      10009                 28                 3   \n",
       "2                      10009                 16                 1   \n",
       "3                      10009                 10                 0   \n",
       "4                      10009                  6                 0   \n",
       "\n",
       "   TOTAL UNITS LAND SQUARE FEET GROSS SQUARE FEET  YEAR BUILT  \\\n",
       "0            5             1633              6440        1900   \n",
       "1           31             4616             18690        1900   \n",
       "2           17             2212              7803        1900   \n",
       "3           10             2272              6794        1913   \n",
       "4            6             2369              4615        1900   \n",
       "\n",
       "   TAX CLASS AT TIME OF SALE BUILDING CLASS AT TIME OF SALE SALE PRICE  \\\n",
       "0                          2                             C2    6625000   \n",
       "1                          2                             C7        -     \n",
       "2                          2                             C7        -     \n",
       "3                          2                             C4    3936272   \n",
       "4                          2                             C2    8000000   \n",
       "\n",
       "             SALE DATE  \n",
       "0  2017-07-19 00:00:00  \n",
       "1  2016-12-14 00:00:00  \n",
       "2  2016-12-09 00:00:00  \n",
       "3  2016-09-23 00:00:00  \n",
       "4  2016-11-17 00:00:00  "
      ]
     },
     "execution_count": 296,
     "metadata": {},
     "output_type": "execute_result"
    }
   ],
   "source": [
    "df=pd.read_csv('nyc-rolling-sales.csv')\n",
    "df.head()"
   ]
  },
  {
   "cell_type": "code",
   "execution_count": 297,
   "metadata": {},
   "outputs": [
    {
     "data": {
      "text/html": [
       "<div>\n",
       "<style scoped>\n",
       "    .dataframe tbody tr th:only-of-type {\n",
       "        vertical-align: middle;\n",
       "    }\n",
       "\n",
       "    .dataframe tbody tr th {\n",
       "        vertical-align: top;\n",
       "    }\n",
       "\n",
       "    .dataframe thead th {\n",
       "        text-align: right;\n",
       "    }\n",
       "</style>\n",
       "<table border=\"1\" class=\"dataframe\">\n",
       "  <thead>\n",
       "    <tr style=\"text-align: right;\">\n",
       "      <th></th>\n",
       "      <th>Unnamed: 0</th>\n",
       "      <th>BOROUGH</th>\n",
       "      <th>NEIGHBORHOOD</th>\n",
       "      <th>BUILDING CLASS CATEGORY</th>\n",
       "      <th>TAX CLASS AT PRESENT</th>\n",
       "      <th>BLOCK</th>\n",
       "      <th>LOT</th>\n",
       "      <th>EASE-MENT</th>\n",
       "      <th>BUILDING CLASS AT PRESENT</th>\n",
       "      <th>ADDRESS</th>\n",
       "      <th>APARTMENT NUMBER</th>\n",
       "      <th>ZIP CODE</th>\n",
       "      <th>RESIDENTIAL UNITS</th>\n",
       "      <th>COMMERCIAL UNITS</th>\n",
       "      <th>TOTAL UNITS</th>\n",
       "      <th>LAND SQUARE FEET</th>\n",
       "      <th>GROSS SQUARE FEET</th>\n",
       "      <th>YEAR BUILT</th>\n",
       "      <th>TAX CLASS AT TIME OF SALE</th>\n",
       "      <th>BUILDING CLASS AT TIME OF SALE</th>\n",
       "      <th>SALE PRICE</th>\n",
       "      <th>SALE DATE</th>\n",
       "    </tr>\n",
       "  </thead>\n",
       "  <tbody>\n",
       "    <tr>\n",
       "      <th>84543</th>\n",
       "      <td>8409</td>\n",
       "      <td>5</td>\n",
       "      <td>WOODROW</td>\n",
       "      <td>02 TWO FAMILY DWELLINGS</td>\n",
       "      <td>1</td>\n",
       "      <td>7349</td>\n",
       "      <td>34</td>\n",
       "      <td></td>\n",
       "      <td>B9</td>\n",
       "      <td>37 QUAIL LANE</td>\n",
       "      <td></td>\n",
       "      <td>10309</td>\n",
       "      <td>2</td>\n",
       "      <td>0</td>\n",
       "      <td>2</td>\n",
       "      <td>2400</td>\n",
       "      <td>2575</td>\n",
       "      <td>1998</td>\n",
       "      <td>1</td>\n",
       "      <td>B9</td>\n",
       "      <td>450000</td>\n",
       "      <td>2016-11-28 00:00:00</td>\n",
       "    </tr>\n",
       "    <tr>\n",
       "      <th>84544</th>\n",
       "      <td>8410</td>\n",
       "      <td>5</td>\n",
       "      <td>WOODROW</td>\n",
       "      <td>02 TWO FAMILY DWELLINGS</td>\n",
       "      <td>1</td>\n",
       "      <td>7349</td>\n",
       "      <td>78</td>\n",
       "      <td></td>\n",
       "      <td>B9</td>\n",
       "      <td>32 PHEASANT LANE</td>\n",
       "      <td></td>\n",
       "      <td>10309</td>\n",
       "      <td>2</td>\n",
       "      <td>0</td>\n",
       "      <td>2</td>\n",
       "      <td>2498</td>\n",
       "      <td>2377</td>\n",
       "      <td>1998</td>\n",
       "      <td>1</td>\n",
       "      <td>B9</td>\n",
       "      <td>550000</td>\n",
       "      <td>2017-04-21 00:00:00</td>\n",
       "    </tr>\n",
       "    <tr>\n",
       "      <th>84545</th>\n",
       "      <td>8411</td>\n",
       "      <td>5</td>\n",
       "      <td>WOODROW</td>\n",
       "      <td>02 TWO FAMILY DWELLINGS</td>\n",
       "      <td>1</td>\n",
       "      <td>7351</td>\n",
       "      <td>60</td>\n",
       "      <td></td>\n",
       "      <td>B2</td>\n",
       "      <td>49 PITNEY AVENUE</td>\n",
       "      <td></td>\n",
       "      <td>10309</td>\n",
       "      <td>2</td>\n",
       "      <td>0</td>\n",
       "      <td>2</td>\n",
       "      <td>4000</td>\n",
       "      <td>1496</td>\n",
       "      <td>1925</td>\n",
       "      <td>1</td>\n",
       "      <td>B2</td>\n",
       "      <td>460000</td>\n",
       "      <td>2017-07-05 00:00:00</td>\n",
       "    </tr>\n",
       "    <tr>\n",
       "      <th>84546</th>\n",
       "      <td>8412</td>\n",
       "      <td>5</td>\n",
       "      <td>WOODROW</td>\n",
       "      <td>22 STORE BUILDINGS</td>\n",
       "      <td>4</td>\n",
       "      <td>7100</td>\n",
       "      <td>28</td>\n",
       "      <td></td>\n",
       "      <td>K6</td>\n",
       "      <td>2730 ARTHUR KILL ROAD</td>\n",
       "      <td></td>\n",
       "      <td>10309</td>\n",
       "      <td>0</td>\n",
       "      <td>7</td>\n",
       "      <td>7</td>\n",
       "      <td>208033</td>\n",
       "      <td>64117</td>\n",
       "      <td>2001</td>\n",
       "      <td>4</td>\n",
       "      <td>K6</td>\n",
       "      <td>11693337</td>\n",
       "      <td>2016-12-21 00:00:00</td>\n",
       "    </tr>\n",
       "    <tr>\n",
       "      <th>84547</th>\n",
       "      <td>8413</td>\n",
       "      <td>5</td>\n",
       "      <td>WOODROW</td>\n",
       "      <td>35 INDOOR PUBLIC AND CULTURAL FACILITIES</td>\n",
       "      <td>4</td>\n",
       "      <td>7105</td>\n",
       "      <td>679</td>\n",
       "      <td></td>\n",
       "      <td>P9</td>\n",
       "      <td>155 CLAY PIT ROAD</td>\n",
       "      <td></td>\n",
       "      <td>10309</td>\n",
       "      <td>0</td>\n",
       "      <td>1</td>\n",
       "      <td>1</td>\n",
       "      <td>10796</td>\n",
       "      <td>2400</td>\n",
       "      <td>2006</td>\n",
       "      <td>4</td>\n",
       "      <td>P9</td>\n",
       "      <td>69300</td>\n",
       "      <td>2016-10-27 00:00:00</td>\n",
       "    </tr>\n",
       "  </tbody>\n",
       "</table>\n",
       "</div>"
      ],
      "text/plain": [
       "       Unnamed: 0  BOROUGH NEIGHBORHOOD  \\\n",
       "84543        8409        5      WOODROW   \n",
       "84544        8410        5      WOODROW   \n",
       "84545        8411        5      WOODROW   \n",
       "84546        8412        5      WOODROW   \n",
       "84547        8413        5      WOODROW   \n",
       "\n",
       "                           BUILDING CLASS CATEGORY TAX CLASS AT PRESENT  \\\n",
       "84543  02 TWO FAMILY DWELLINGS                                        1   \n",
       "84544  02 TWO FAMILY DWELLINGS                                        1   \n",
       "84545  02 TWO FAMILY DWELLINGS                                        1   \n",
       "84546  22 STORE BUILDINGS                                             4   \n",
       "84547  35 INDOOR PUBLIC AND CULTURAL FACILITIES                       4   \n",
       "\n",
       "       BLOCK  LOT EASE-MENT BUILDING CLASS AT PRESENT                ADDRESS  \\\n",
       "84543   7349   34                                  B9          37 QUAIL LANE   \n",
       "84544   7349   78                                  B9       32 PHEASANT LANE   \n",
       "84545   7351   60                                  B2       49 PITNEY AVENUE   \n",
       "84546   7100   28                                  K6  2730 ARTHUR KILL ROAD   \n",
       "84547   7105  679                                  P9      155 CLAY PIT ROAD   \n",
       "\n",
       "      APARTMENT NUMBER  ZIP CODE  RESIDENTIAL UNITS  COMMERCIAL UNITS  \\\n",
       "84543                      10309                  2                 0   \n",
       "84544                      10309                  2                 0   \n",
       "84545                      10309                  2                 0   \n",
       "84546                      10309                  0                 7   \n",
       "84547                      10309                  0                 1   \n",
       "\n",
       "       TOTAL UNITS LAND SQUARE FEET GROSS SQUARE FEET  YEAR BUILT  \\\n",
       "84543            2             2400              2575        1998   \n",
       "84544            2             2498              2377        1998   \n",
       "84545            2             4000              1496        1925   \n",
       "84546            7           208033             64117        2001   \n",
       "84547            1            10796              2400        2006   \n",
       "\n",
       "       TAX CLASS AT TIME OF SALE BUILDING CLASS AT TIME OF SALE SALE PRICE  \\\n",
       "84543                          1                             B9     450000   \n",
       "84544                          1                             B9     550000   \n",
       "84545                          1                             B2     460000   \n",
       "84546                          4                             K6   11693337   \n",
       "84547                          4                             P9      69300   \n",
       "\n",
       "                 SALE DATE  \n",
       "84543  2016-11-28 00:00:00  \n",
       "84544  2017-04-21 00:00:00  \n",
       "84545  2017-07-05 00:00:00  \n",
       "84546  2016-12-21 00:00:00  \n",
       "84547  2016-10-27 00:00:00  "
      ]
     },
     "execution_count": 297,
     "metadata": {},
     "output_type": "execute_result"
    }
   ],
   "source": [
    "df.tail()"
   ]
  },
  {
   "cell_type": "code",
   "execution_count": 298,
   "metadata": {},
   "outputs": [
    {
     "data": {
      "text/html": [
       "<div>\n",
       "<style scoped>\n",
       "    .dataframe tbody tr th:only-of-type {\n",
       "        vertical-align: middle;\n",
       "    }\n",
       "\n",
       "    .dataframe tbody tr th {\n",
       "        vertical-align: top;\n",
       "    }\n",
       "\n",
       "    .dataframe thead th {\n",
       "        text-align: right;\n",
       "    }\n",
       "</style>\n",
       "<table border=\"1\" class=\"dataframe\">\n",
       "  <thead>\n",
       "    <tr style=\"text-align: right;\">\n",
       "      <th></th>\n",
       "      <th>BOROUGH</th>\n",
       "      <th>NEIGHBORHOOD</th>\n",
       "      <th>BUILDING CLASS CATEGORY</th>\n",
       "      <th>TAX CLASS AT PRESENT</th>\n",
       "      <th>BLOCK</th>\n",
       "      <th>LOT</th>\n",
       "      <th>BUILDING CLASS AT PRESENT</th>\n",
       "      <th>ADDRESS</th>\n",
       "      <th>APARTMENT NUMBER</th>\n",
       "      <th>ZIP CODE</th>\n",
       "      <th>RESIDENTIAL UNITS</th>\n",
       "      <th>COMMERCIAL UNITS</th>\n",
       "      <th>TOTAL UNITS</th>\n",
       "      <th>LAND SQUARE FEET</th>\n",
       "      <th>GROSS SQUARE FEET</th>\n",
       "      <th>YEAR BUILT</th>\n",
       "      <th>TAX CLASS AT TIME OF SALE</th>\n",
       "      <th>BUILDING CLASS AT TIME OF SALE</th>\n",
       "      <th>SALE PRICE</th>\n",
       "      <th>SALE DATE</th>\n",
       "    </tr>\n",
       "  </thead>\n",
       "  <tbody>\n",
       "    <tr>\n",
       "      <th>0</th>\n",
       "      <td>1</td>\n",
       "      <td>ALPHABET CITY</td>\n",
       "      <td>07 RENTALS - WALKUP APARTMENTS</td>\n",
       "      <td>2A</td>\n",
       "      <td>392</td>\n",
       "      <td>6</td>\n",
       "      <td>C2</td>\n",
       "      <td>153 AVENUE B</td>\n",
       "      <td></td>\n",
       "      <td>10009</td>\n",
       "      <td>5</td>\n",
       "      <td>0</td>\n",
       "      <td>5</td>\n",
       "      <td>1633</td>\n",
       "      <td>6440</td>\n",
       "      <td>1900</td>\n",
       "      <td>2</td>\n",
       "      <td>C2</td>\n",
       "      <td>6625000</td>\n",
       "      <td>2017-07-19 00:00:00</td>\n",
       "    </tr>\n",
       "    <tr>\n",
       "      <th>1</th>\n",
       "      <td>1</td>\n",
       "      <td>ALPHABET CITY</td>\n",
       "      <td>07 RENTALS - WALKUP APARTMENTS</td>\n",
       "      <td>2</td>\n",
       "      <td>399</td>\n",
       "      <td>26</td>\n",
       "      <td>C7</td>\n",
       "      <td>234 EAST 4TH   STREET</td>\n",
       "      <td></td>\n",
       "      <td>10009</td>\n",
       "      <td>28</td>\n",
       "      <td>3</td>\n",
       "      <td>31</td>\n",
       "      <td>4616</td>\n",
       "      <td>18690</td>\n",
       "      <td>1900</td>\n",
       "      <td>2</td>\n",
       "      <td>C7</td>\n",
       "      <td>-</td>\n",
       "      <td>2016-12-14 00:00:00</td>\n",
       "    </tr>\n",
       "    <tr>\n",
       "      <th>2</th>\n",
       "      <td>1</td>\n",
       "      <td>ALPHABET CITY</td>\n",
       "      <td>07 RENTALS - WALKUP APARTMENTS</td>\n",
       "      <td>2</td>\n",
       "      <td>399</td>\n",
       "      <td>39</td>\n",
       "      <td>C7</td>\n",
       "      <td>197 EAST 3RD   STREET</td>\n",
       "      <td></td>\n",
       "      <td>10009</td>\n",
       "      <td>16</td>\n",
       "      <td>1</td>\n",
       "      <td>17</td>\n",
       "      <td>2212</td>\n",
       "      <td>7803</td>\n",
       "      <td>1900</td>\n",
       "      <td>2</td>\n",
       "      <td>C7</td>\n",
       "      <td>-</td>\n",
       "      <td>2016-12-09 00:00:00</td>\n",
       "    </tr>\n",
       "    <tr>\n",
       "      <th>3</th>\n",
       "      <td>1</td>\n",
       "      <td>ALPHABET CITY</td>\n",
       "      <td>07 RENTALS - WALKUP APARTMENTS</td>\n",
       "      <td>2B</td>\n",
       "      <td>402</td>\n",
       "      <td>21</td>\n",
       "      <td>C4</td>\n",
       "      <td>154 EAST 7TH STREET</td>\n",
       "      <td></td>\n",
       "      <td>10009</td>\n",
       "      <td>10</td>\n",
       "      <td>0</td>\n",
       "      <td>10</td>\n",
       "      <td>2272</td>\n",
       "      <td>6794</td>\n",
       "      <td>1913</td>\n",
       "      <td>2</td>\n",
       "      <td>C4</td>\n",
       "      <td>3936272</td>\n",
       "      <td>2016-09-23 00:00:00</td>\n",
       "    </tr>\n",
       "    <tr>\n",
       "      <th>4</th>\n",
       "      <td>1</td>\n",
       "      <td>ALPHABET CITY</td>\n",
       "      <td>07 RENTALS - WALKUP APARTMENTS</td>\n",
       "      <td>2A</td>\n",
       "      <td>404</td>\n",
       "      <td>55</td>\n",
       "      <td>C2</td>\n",
       "      <td>301 EAST 10TH   STREET</td>\n",
       "      <td></td>\n",
       "      <td>10009</td>\n",
       "      <td>6</td>\n",
       "      <td>0</td>\n",
       "      <td>6</td>\n",
       "      <td>2369</td>\n",
       "      <td>4615</td>\n",
       "      <td>1900</td>\n",
       "      <td>2</td>\n",
       "      <td>C2</td>\n",
       "      <td>8000000</td>\n",
       "      <td>2016-11-17 00:00:00</td>\n",
       "    </tr>\n",
       "  </tbody>\n",
       "</table>\n",
       "</div>"
      ],
      "text/plain": [
       "   BOROUGH   NEIGHBORHOOD                      BUILDING CLASS CATEGORY  \\\n",
       "0        1  ALPHABET CITY  07 RENTALS - WALKUP APARTMENTS                \n",
       "1        1  ALPHABET CITY  07 RENTALS - WALKUP APARTMENTS                \n",
       "2        1  ALPHABET CITY  07 RENTALS - WALKUP APARTMENTS                \n",
       "3        1  ALPHABET CITY  07 RENTALS - WALKUP APARTMENTS                \n",
       "4        1  ALPHABET CITY  07 RENTALS - WALKUP APARTMENTS                \n",
       "\n",
       "  TAX CLASS AT PRESENT  BLOCK  LOT BUILDING CLASS AT PRESENT  \\\n",
       "0                   2A    392    6                        C2   \n",
       "1                    2    399   26                        C7   \n",
       "2                    2    399   39                        C7   \n",
       "3                   2B    402   21                        C4   \n",
       "4                   2A    404   55                        C2   \n",
       "\n",
       "                  ADDRESS APARTMENT NUMBER  ZIP CODE  RESIDENTIAL UNITS  \\\n",
       "0            153 AVENUE B                      10009                  5   \n",
       "1   234 EAST 4TH   STREET                      10009                 28   \n",
       "2   197 EAST 3RD   STREET                      10009                 16   \n",
       "3     154 EAST 7TH STREET                      10009                 10   \n",
       "4  301 EAST 10TH   STREET                      10009                  6   \n",
       "\n",
       "   COMMERCIAL UNITS  TOTAL UNITS LAND SQUARE FEET GROSS SQUARE FEET  \\\n",
       "0                 0            5             1633              6440   \n",
       "1                 3           31             4616             18690   \n",
       "2                 1           17             2212              7803   \n",
       "3                 0           10             2272              6794   \n",
       "4                 0            6             2369              4615   \n",
       "\n",
       "   YEAR BUILT  TAX CLASS AT TIME OF SALE BUILDING CLASS AT TIME OF SALE  \\\n",
       "0        1900                          2                             C2   \n",
       "1        1900                          2                             C7   \n",
       "2        1900                          2                             C7   \n",
       "3        1913                          2                             C4   \n",
       "4        1900                          2                             C2   \n",
       "\n",
       "  SALE PRICE            SALE DATE  \n",
       "0    6625000  2017-07-19 00:00:00  \n",
       "1        -    2016-12-14 00:00:00  \n",
       "2        -    2016-12-09 00:00:00  \n",
       "3    3936272  2016-09-23 00:00:00  \n",
       "4    8000000  2016-11-17 00:00:00  "
      ]
     },
     "execution_count": 298,
     "metadata": {},
     "output_type": "execute_result"
    }
   ],
   "source": [
    "# Hapus kolom Unamed:0 dan EASE-MENT\n",
    "df=df.drop(['Unnamed: 0','EASE-MENT'],axis=1)\n",
    "df.head()"
   ]
  },
  {
   "cell_type": "code",
   "execution_count": 299,
   "metadata": {},
   "outputs": [
    {
     "name": "stdout",
     "output_type": "stream",
     "text": [
      "<class 'pandas.core.frame.DataFrame'>\n",
      "RangeIndex: 84548 entries, 0 to 84547\n",
      "Data columns (total 20 columns):\n",
      " #   Column                          Non-Null Count  Dtype \n",
      "---  ------                          --------------  ----- \n",
      " 0   BOROUGH                         84548 non-null  int64 \n",
      " 1   NEIGHBORHOOD                    84548 non-null  object\n",
      " 2   BUILDING CLASS CATEGORY         84548 non-null  object\n",
      " 3   TAX CLASS AT PRESENT            84548 non-null  object\n",
      " 4   BLOCK                           84548 non-null  int64 \n",
      " 5   LOT                             84548 non-null  int64 \n",
      " 6   BUILDING CLASS AT PRESENT       84548 non-null  object\n",
      " 7   ADDRESS                         84548 non-null  object\n",
      " 8   APARTMENT NUMBER                84548 non-null  object\n",
      " 9   ZIP CODE                        84548 non-null  int64 \n",
      " 10  RESIDENTIAL UNITS               84548 non-null  int64 \n",
      " 11  COMMERCIAL UNITS                84548 non-null  int64 \n",
      " 12  TOTAL UNITS                     84548 non-null  int64 \n",
      " 13  LAND SQUARE FEET                84548 non-null  object\n",
      " 14  GROSS SQUARE FEET               84548 non-null  object\n",
      " 15  YEAR BUILT                      84548 non-null  int64 \n",
      " 16  TAX CLASS AT TIME OF SALE       84548 non-null  int64 \n",
      " 17  BUILDING CLASS AT TIME OF SALE  84548 non-null  object\n",
      " 18  SALE PRICE                      84548 non-null  object\n",
      " 19  SALE DATE                       84548 non-null  object\n",
      "dtypes: int64(9), object(11)\n",
      "memory usage: 12.9+ MB\n"
     ]
    }
   ],
   "source": [
    "df.info()"
   ]
  },
  {
   "cell_type": "code",
   "execution_count": 300,
   "metadata": {},
   "outputs": [
    {
     "name": "stdout",
     "output_type": "stream",
     "text": [
      "NEIGHBORHOOD 254\n",
      "BUILDING CLASS CATEGORY 47\n",
      "TAX CLASS AT PRESENT 11\n",
      "BUILDING CLASS AT PRESENT 167\n",
      "ADDRESS 67563\n",
      "APARTMENT NUMBER 3989\n",
      "LAND SQUARE FEET 6062\n",
      "GROSS SQUARE FEET 5691\n",
      "BUILDING CLASS AT TIME OF SALE 166\n",
      "SALE PRICE 10008\n",
      "SALE DATE 364\n"
     ]
    }
   ],
   "source": [
    "# Cek kolom yang berisi data kategorik\n",
    "\n",
    "for col in df.columns:\n",
    "    if df[col].dtype=='object':\n",
    "        print(col, df[col].nunique())"
   ]
  },
  {
   "cell_type": "markdown",
   "metadata": {},
   "source": [
    "Dari informasi diatas terlihat kolom LAND SQUARE FEET,GROSS SQUARE FEET, SALE PRICE yang seharusnya kolom dengan data numerik tetapi diidentifikasi sebagai kategorik.\n",
    "Selain itu kolom SALE DATE juga dapat diubah ke format datetime."
   ]
  },
  {
   "cell_type": "code",
   "execution_count": 301,
   "metadata": {},
   "outputs": [],
   "source": [
    "# Ubah setiap kolom sesuai dengan format yang seharusnya\n",
    "\n",
    "df_numerik = ['LAND SQUARE FEET','GROSS SQUARE FEET', 'SALE PRICE']\n",
    "for column in df_numerik: # coerce for missing values\n",
    "    df[column] = pd.to_numeric(df[column], errors='coerce')\n",
    "\n",
    "df_category = ['NEIGHBORHOOD', 'BUILDING CLASS CATEGORY', 'TAX CLASS AT PRESENT', 'BUILDING CLASS AT PRESENT', 'BUILDING CLASS AT TIME OF SALE', 'TAX CLASS AT TIME OF SALE']\n",
    "for column in df_category:\n",
    "    df[column] = df[column].astype('category')\n",
    "\n",
    "df['SALE DATE'] = pd.to_datetime(df['SALE DATE'], errors='coerce')"
   ]
  },
  {
   "cell_type": "code",
   "execution_count": 302,
   "metadata": {},
   "outputs": [
    {
     "data": {
      "text/plain": [
       "BOROUGH                               0\n",
       "NEIGHBORHOOD                          0\n",
       "BUILDING CLASS CATEGORY               0\n",
       "TAX CLASS AT PRESENT                  0\n",
       "BLOCK                                 0\n",
       "LOT                                   0\n",
       "BUILDING CLASS AT PRESENT             0\n",
       "ADDRESS                               0\n",
       "APARTMENT NUMBER                      0\n",
       "ZIP CODE                              0\n",
       "RESIDENTIAL UNITS                     0\n",
       "COMMERCIAL UNITS                      0\n",
       "TOTAL UNITS                           0\n",
       "LAND SQUARE FEET                  26252\n",
       "GROSS SQUARE FEET                 27612\n",
       "YEAR BUILT                            0\n",
       "TAX CLASS AT TIME OF SALE             0\n",
       "BUILDING CLASS AT TIME OF SALE        0\n",
       "SALE PRICE                        14561\n",
       "SALE DATE                             0\n",
       "dtype: int64"
      ]
     },
     "execution_count": 302,
     "metadata": {},
     "output_type": "execute_result"
    }
   ],
   "source": [
    "df.isnull().sum()"
   ]
  },
  {
   "cell_type": "markdown",
   "metadata": {},
   "source": [
    "- Setelah diubah ke numerik, terlihat kolom LAND SQUARE FEET,GROSS SQUARE FEET, SALE PRICE memiliki baris yang kosong.\n",
    "\n",
    "- Untuk kolom LAND SQUARE FEET (LSF) dan GROSS SQUARE FEET (GSF) kita dapat memperkirakan data dari kolom tersebut mirip satu sama lain"
   ]
  },
  {
   "cell_type": "code",
   "execution_count": 303,
   "metadata": {},
   "outputs": [],
   "source": [
    "# Isi kolom LSF yang kosong dengan nilai dari kolom GSF\n",
    "# Isi kolom GSF yang kosong dengan nilai dari kolom LSF\n",
    "\n",
    "df['LAND SQUARE FEET'] = df['LAND SQUARE FEET'].mask((df['LAND SQUARE FEET'].isnull()) & (df['GROSS SQUARE FEET'].notnull()), df['GROSS SQUARE FEET'])\n",
    "df['GROSS SQUARE FEET'] = df['GROSS SQUARE FEET'].mask((df['LAND SQUARE FEET'].notnull()) & (df['GROSS SQUARE FEET'].isnull()), df['LAND SQUARE FEET'])"
   ]
  },
  {
   "cell_type": "code",
   "execution_count": 304,
   "metadata": {},
   "outputs": [
    {
     "name": "stdout",
     "output_type": "stream",
     "text": [
      "765\n"
     ]
    },
    {
     "data": {
      "text/html": [
       "<div>\n",
       "<style scoped>\n",
       "    .dataframe tbody tr th:only-of-type {\n",
       "        vertical-align: middle;\n",
       "    }\n",
       "\n",
       "    .dataframe tbody tr th {\n",
       "        vertical-align: top;\n",
       "    }\n",
       "\n",
       "    .dataframe thead th {\n",
       "        text-align: right;\n",
       "    }\n",
       "</style>\n",
       "<table border=\"1\" class=\"dataframe\">\n",
       "  <thead>\n",
       "    <tr style=\"text-align: right;\">\n",
       "      <th></th>\n",
       "      <th>BOROUGH</th>\n",
       "      <th>NEIGHBORHOOD</th>\n",
       "      <th>BUILDING CLASS CATEGORY</th>\n",
       "      <th>TAX CLASS AT PRESENT</th>\n",
       "      <th>BLOCK</th>\n",
       "      <th>LOT</th>\n",
       "      <th>BUILDING CLASS AT PRESENT</th>\n",
       "      <th>ADDRESS</th>\n",
       "      <th>APARTMENT NUMBER</th>\n",
       "      <th>ZIP CODE</th>\n",
       "      <th>RESIDENTIAL UNITS</th>\n",
       "      <th>COMMERCIAL UNITS</th>\n",
       "      <th>TOTAL UNITS</th>\n",
       "      <th>LAND SQUARE FEET</th>\n",
       "      <th>GROSS SQUARE FEET</th>\n",
       "      <th>YEAR BUILT</th>\n",
       "      <th>TAX CLASS AT TIME OF SALE</th>\n",
       "      <th>BUILDING CLASS AT TIME OF SALE</th>\n",
       "      <th>SALE PRICE</th>\n",
       "      <th>SALE DATE</th>\n",
       "    </tr>\n",
       "  </thead>\n",
       "  <tbody>\n",
       "    <tr>\n",
       "      <th>76286</th>\n",
       "      <td>5</td>\n",
       "      <td>ANNADALE</td>\n",
       "      <td>02 TWO FAMILY DWELLINGS</td>\n",
       "      <td>1</td>\n",
       "      <td>6350</td>\n",
       "      <td>7</td>\n",
       "      <td>B2</td>\n",
       "      <td>106 BENNETT PLACE</td>\n",
       "      <td></td>\n",
       "      <td>10312</td>\n",
       "      <td>2</td>\n",
       "      <td>0</td>\n",
       "      <td>2</td>\n",
       "      <td>8000.0</td>\n",
       "      <td>4208.0</td>\n",
       "      <td>1985</td>\n",
       "      <td>1</td>\n",
       "      <td>B2</td>\n",
       "      <td>NaN</td>\n",
       "      <td>2017-06-27</td>\n",
       "    </tr>\n",
       "    <tr>\n",
       "      <th>76287</th>\n",
       "      <td>5</td>\n",
       "      <td>ANNADALE</td>\n",
       "      <td>02 TWO FAMILY DWELLINGS</td>\n",
       "      <td>1</td>\n",
       "      <td>6350</td>\n",
       "      <td>7</td>\n",
       "      <td>B2</td>\n",
       "      <td>106 BENNETT PLACE</td>\n",
       "      <td></td>\n",
       "      <td>10312</td>\n",
       "      <td>2</td>\n",
       "      <td>0</td>\n",
       "      <td>2</td>\n",
       "      <td>8000.0</td>\n",
       "      <td>4208.0</td>\n",
       "      <td>1985</td>\n",
       "      <td>1</td>\n",
       "      <td>B2</td>\n",
       "      <td>NaN</td>\n",
       "      <td>2017-06-27</td>\n",
       "    </tr>\n",
       "    <tr>\n",
       "      <th>76322</th>\n",
       "      <td>5</td>\n",
       "      <td>ANNADALE</td>\n",
       "      <td>05 TAX CLASS 1 VACANT LAND</td>\n",
       "      <td>1B</td>\n",
       "      <td>6459</td>\n",
       "      <td>28</td>\n",
       "      <td>V0</td>\n",
       "      <td>N/A HYLAN BOULEVARD</td>\n",
       "      <td></td>\n",
       "      <td>0</td>\n",
       "      <td>0</td>\n",
       "      <td>0</td>\n",
       "      <td>0</td>\n",
       "      <td>6667.0</td>\n",
       "      <td>6667.0</td>\n",
       "      <td>0</td>\n",
       "      <td>1</td>\n",
       "      <td>V0</td>\n",
       "      <td>NaN</td>\n",
       "      <td>2017-05-11</td>\n",
       "    </tr>\n",
       "    <tr>\n",
       "      <th>76323</th>\n",
       "      <td>5</td>\n",
       "      <td>ANNADALE</td>\n",
       "      <td>05 TAX CLASS 1 VACANT LAND</td>\n",
       "      <td>1B</td>\n",
       "      <td>6459</td>\n",
       "      <td>28</td>\n",
       "      <td>V0</td>\n",
       "      <td>N/A HYLAN BOULEVARD</td>\n",
       "      <td></td>\n",
       "      <td>0</td>\n",
       "      <td>0</td>\n",
       "      <td>0</td>\n",
       "      <td>0</td>\n",
       "      <td>6667.0</td>\n",
       "      <td>6667.0</td>\n",
       "      <td>0</td>\n",
       "      <td>1</td>\n",
       "      <td>V0</td>\n",
       "      <td>NaN</td>\n",
       "      <td>2017-05-11</td>\n",
       "    </tr>\n",
       "    <tr>\n",
       "      <th>76383</th>\n",
       "      <td>5</td>\n",
       "      <td>ARDEN HEIGHTS</td>\n",
       "      <td>01 ONE FAMILY DWELLINGS</td>\n",
       "      <td>1</td>\n",
       "      <td>5741</td>\n",
       "      <td>93</td>\n",
       "      <td>A5</td>\n",
       "      <td>266 ILYSSA WAY</td>\n",
       "      <td></td>\n",
       "      <td>10312</td>\n",
       "      <td>1</td>\n",
       "      <td>0</td>\n",
       "      <td>1</td>\n",
       "      <td>500.0</td>\n",
       "      <td>1354.0</td>\n",
       "      <td>1996</td>\n",
       "      <td>1</td>\n",
       "      <td>A5</td>\n",
       "      <td>320000.0</td>\n",
       "      <td>2017-06-06</td>\n",
       "    </tr>\n",
       "    <tr>\n",
       "      <th>76384</th>\n",
       "      <td>5</td>\n",
       "      <td>ARDEN HEIGHTS</td>\n",
       "      <td>01 ONE FAMILY DWELLINGS</td>\n",
       "      <td>1</td>\n",
       "      <td>5741</td>\n",
       "      <td>93</td>\n",
       "      <td>A5</td>\n",
       "      <td>266 ILYSSA WAY</td>\n",
       "      <td></td>\n",
       "      <td>10312</td>\n",
       "      <td>1</td>\n",
       "      <td>0</td>\n",
       "      <td>1</td>\n",
       "      <td>500.0</td>\n",
       "      <td>1354.0</td>\n",
       "      <td>1996</td>\n",
       "      <td>1</td>\n",
       "      <td>A5</td>\n",
       "      <td>320000.0</td>\n",
       "      <td>2017-06-06</td>\n",
       "    </tr>\n",
       "    <tr>\n",
       "      <th>76643</th>\n",
       "      <td>5</td>\n",
       "      <td>ARROCHAR</td>\n",
       "      <td>02 TWO FAMILY DWELLINGS</td>\n",
       "      <td>1</td>\n",
       "      <td>3103</td>\n",
       "      <td>57</td>\n",
       "      <td>B2</td>\n",
       "      <td>129 MC CLEAN AVENUE</td>\n",
       "      <td></td>\n",
       "      <td>10305</td>\n",
       "      <td>2</td>\n",
       "      <td>0</td>\n",
       "      <td>2</td>\n",
       "      <td>5000.0</td>\n",
       "      <td>2733.0</td>\n",
       "      <td>1925</td>\n",
       "      <td>1</td>\n",
       "      <td>B2</td>\n",
       "      <td>NaN</td>\n",
       "      <td>2017-03-21</td>\n",
       "    </tr>\n",
       "    <tr>\n",
       "      <th>76644</th>\n",
       "      <td>5</td>\n",
       "      <td>ARROCHAR</td>\n",
       "      <td>02 TWO FAMILY DWELLINGS</td>\n",
       "      <td>1</td>\n",
       "      <td>3103</td>\n",
       "      <td>57</td>\n",
       "      <td>B2</td>\n",
       "      <td>129 MC CLEAN AVENUE</td>\n",
       "      <td></td>\n",
       "      <td>10305</td>\n",
       "      <td>2</td>\n",
       "      <td>0</td>\n",
       "      <td>2</td>\n",
       "      <td>5000.0</td>\n",
       "      <td>2733.0</td>\n",
       "      <td>1925</td>\n",
       "      <td>1</td>\n",
       "      <td>B2</td>\n",
       "      <td>NaN</td>\n",
       "      <td>2017-03-21</td>\n",
       "    </tr>\n",
       "    <tr>\n",
       "      <th>50126</th>\n",
       "      <td>4</td>\n",
       "      <td>ASTORIA</td>\n",
       "      <td>03 THREE FAMILY DWELLINGS</td>\n",
       "      <td>1</td>\n",
       "      <td>856</td>\n",
       "      <td>139</td>\n",
       "      <td>C0</td>\n",
       "      <td>22-18 27TH   STREET</td>\n",
       "      <td></td>\n",
       "      <td>11105</td>\n",
       "      <td>3</td>\n",
       "      <td>0</td>\n",
       "      <td>3</td>\n",
       "      <td>2000.0</td>\n",
       "      <td>1400.0</td>\n",
       "      <td>1930</td>\n",
       "      <td>1</td>\n",
       "      <td>C0</td>\n",
       "      <td>NaN</td>\n",
       "      <td>2017-01-12</td>\n",
       "    </tr>\n",
       "    <tr>\n",
       "      <th>50127</th>\n",
       "      <td>4</td>\n",
       "      <td>ASTORIA</td>\n",
       "      <td>03 THREE FAMILY DWELLINGS</td>\n",
       "      <td>1</td>\n",
       "      <td>856</td>\n",
       "      <td>139</td>\n",
       "      <td>C0</td>\n",
       "      <td>22-18 27TH   STREET</td>\n",
       "      <td></td>\n",
       "      <td>11105</td>\n",
       "      <td>3</td>\n",
       "      <td>0</td>\n",
       "      <td>3</td>\n",
       "      <td>2000.0</td>\n",
       "      <td>1400.0</td>\n",
       "      <td>1930</td>\n",
       "      <td>1</td>\n",
       "      <td>C0</td>\n",
       "      <td>NaN</td>\n",
       "      <td>2017-01-12</td>\n",
       "    </tr>\n",
       "  </tbody>\n",
       "</table>\n",
       "</div>"
      ],
      "text/plain": [
       "       BOROUGH   NEIGHBORHOOD                      BUILDING CLASS CATEGORY  \\\n",
       "76286        5       ANNADALE  02 TWO FAMILY DWELLINGS                       \n",
       "76287        5       ANNADALE  02 TWO FAMILY DWELLINGS                       \n",
       "76322        5       ANNADALE  05 TAX CLASS 1 VACANT LAND                    \n",
       "76323        5       ANNADALE  05 TAX CLASS 1 VACANT LAND                    \n",
       "76383        5  ARDEN HEIGHTS  01 ONE FAMILY DWELLINGS                       \n",
       "76384        5  ARDEN HEIGHTS  01 ONE FAMILY DWELLINGS                       \n",
       "76643        5       ARROCHAR  02 TWO FAMILY DWELLINGS                       \n",
       "76644        5       ARROCHAR  02 TWO FAMILY DWELLINGS                       \n",
       "50126        4        ASTORIA  03 THREE FAMILY DWELLINGS                     \n",
       "50127        4        ASTORIA  03 THREE FAMILY DWELLINGS                     \n",
       "\n",
       "      TAX CLASS AT PRESENT  BLOCK  LOT BUILDING CLASS AT PRESENT  \\\n",
       "76286                    1   6350    7                        B2   \n",
       "76287                    1   6350    7                        B2   \n",
       "76322                   1B   6459   28                        V0   \n",
       "76323                   1B   6459   28                        V0   \n",
       "76383                    1   5741   93                        A5   \n",
       "76384                    1   5741   93                        A5   \n",
       "76643                    1   3103   57                        B2   \n",
       "76644                    1   3103   57                        B2   \n",
       "50126                    1    856  139                        C0   \n",
       "50127                    1    856  139                        C0   \n",
       "\n",
       "                   ADDRESS APARTMENT NUMBER  ZIP CODE  RESIDENTIAL UNITS  \\\n",
       "76286    106 BENNETT PLACE                      10312                  2   \n",
       "76287    106 BENNETT PLACE                      10312                  2   \n",
       "76322  N/A HYLAN BOULEVARD                          0                  0   \n",
       "76323  N/A HYLAN BOULEVARD                          0                  0   \n",
       "76383       266 ILYSSA WAY                      10312                  1   \n",
       "76384       266 ILYSSA WAY                      10312                  1   \n",
       "76643  129 MC CLEAN AVENUE                      10305                  2   \n",
       "76644  129 MC CLEAN AVENUE                      10305                  2   \n",
       "50126  22-18 27TH   STREET                      11105                  3   \n",
       "50127  22-18 27TH   STREET                      11105                  3   \n",
       "\n",
       "       COMMERCIAL UNITS  TOTAL UNITS  LAND SQUARE FEET  GROSS SQUARE FEET  \\\n",
       "76286                 0            2            8000.0             4208.0   \n",
       "76287                 0            2            8000.0             4208.0   \n",
       "76322                 0            0            6667.0             6667.0   \n",
       "76323                 0            0            6667.0             6667.0   \n",
       "76383                 0            1             500.0             1354.0   \n",
       "76384                 0            1             500.0             1354.0   \n",
       "76643                 0            2            5000.0             2733.0   \n",
       "76644                 0            2            5000.0             2733.0   \n",
       "50126                 0            3            2000.0             1400.0   \n",
       "50127                 0            3            2000.0             1400.0   \n",
       "\n",
       "       YEAR BUILT TAX CLASS AT TIME OF SALE BUILDING CLASS AT TIME OF SALE  \\\n",
       "76286        1985                         1                             B2   \n",
       "76287        1985                         1                             B2   \n",
       "76322           0                         1                             V0   \n",
       "76323           0                         1                             V0   \n",
       "76383        1996                         1                             A5   \n",
       "76384        1996                         1                             A5   \n",
       "76643        1925                         1                             B2   \n",
       "76644        1925                         1                             B2   \n",
       "50126        1930                         1                             C0   \n",
       "50127        1930                         1                             C0   \n",
       "\n",
       "       SALE PRICE  SALE DATE  \n",
       "76286         NaN 2017-06-27  \n",
       "76287         NaN 2017-06-27  \n",
       "76322         NaN 2017-05-11  \n",
       "76323         NaN 2017-05-11  \n",
       "76383    320000.0 2017-06-06  \n",
       "76384    320000.0 2017-06-06  \n",
       "76643         NaN 2017-03-21  \n",
       "76644         NaN 2017-03-21  \n",
       "50126         NaN 2017-01-12  \n",
       "50127         NaN 2017-01-12  "
      ]
     },
     "execution_count": 304,
     "metadata": {},
     "output_type": "execute_result"
    }
   ],
   "source": [
    "# Hitung data duplikat\n",
    "print(df.duplicated().sum())\n",
    "\n",
    "# Mengurutkan data duplikat berdasarkan kolom NEIGHBORHOOD dan ADDRESS\n",
    "df[df.duplicated(keep=False)].sort_values(['NEIGHBORHOOD','ADDRESS',]).head(10)"
   ]
  },
  {
   "cell_type": "code",
   "execution_count": 305,
   "metadata": {},
   "outputs": [],
   "source": [
    "# Hapus 765 data duplikat\n",
    "\n",
    "df.drop_duplicates(inplace=True)"
   ]
  },
  {
   "cell_type": "code",
   "execution_count": 307,
   "metadata": {},
   "outputs": [],
   "source": [
    "df.dropna(inplace=True)"
   ]
  },
  {
   "cell_type": "code",
   "execution_count": 308,
   "metadata": {},
   "outputs": [
    {
     "data": {
      "text/plain": [
       "(48453, 20)"
      ]
     },
     "execution_count": 308,
     "metadata": {},
     "output_type": "execute_result"
    }
   ],
   "source": [
    "df.shape"
   ]
  },
  {
   "cell_type": "code",
   "execution_count": 322,
   "metadata": {},
   "outputs": [
    {
     "data": {
      "text/plain": [
       "3    23843\n",
       "4    11292\n",
       "2     6994\n",
       "5     5311\n",
       "1     1013\n",
       "Name: BOROUGH, dtype: int64"
      ]
     },
     "execution_count": 322,
     "metadata": {},
     "output_type": "execute_result"
    }
   ],
   "source": [
    "df.BOROUGH.value_counts()"
   ]
  },
  {
   "cell_type": "code",
   "execution_count": 309,
   "metadata": {},
   "outputs": [
    {
     "data": {
      "text/plain": [
       "1180256.2285720182"
      ]
     },
     "execution_count": 309,
     "metadata": {},
     "output_type": "execute_result"
    }
   ],
   "source": [
    "# Mencari Measure of Central Tendency: Mean dari kolom SALE PRICE\n",
    "df['SALE PRICE'].mean()"
   ]
  },
  {
   "cell_type": "code",
   "execution_count": 310,
   "metadata": {},
   "outputs": [
    {
     "data": {
      "text/plain": [
       "485000.0"
      ]
     },
     "execution_count": 310,
     "metadata": {},
     "output_type": "execute_result"
    }
   ],
   "source": [
    "# Mencari Measure of Central Tendency: Median dari kolom SALE PRICE\n",
    "df['SALE PRICE'].median()"
   ]
  },
  {
   "cell_type": "markdown",
   "metadata": {},
   "source": [
    "Dari 2 informasi diatas terlihat bahwa jarak antara rata-rata dengan median cukup jauh"
   ]
  },
  {
   "cell_type": "code",
   "execution_count": 311,
   "metadata": {},
   "outputs": [
    {
     "data": {
      "text/plain": [
       "0    3\n",
       "dtype: int64"
      ]
     },
     "execution_count": 311,
     "metadata": {},
     "output_type": "execute_result"
    }
   ],
   "source": [
    "# Mencari Measure of Central Tendency: Modus dari kolom SALE PRICE\n",
    "df.BOROUGH.mode()"
   ]
  },
  {
   "cell_type": "code",
   "execution_count": 312,
   "metadata": {},
   "outputs": [
    {
     "name": "stdout",
     "output_type": "stream",
     "text": [
      "2210000000.0 - 0.0 = 2210000000.0\n"
     ]
    }
   ],
   "source": [
    "# Mencari Measure of Spread: Range dari kolom SALE PRICE\n",
    "print(f\"{df['SALE PRICE'].max()} - {df['SALE PRICE'].min()} = {df['SALE PRICE'].max() - df['SALE PRICE'].min()}\")"
   ]
  },
  {
   "cell_type": "code",
   "execution_count": 313,
   "metadata": {},
   "outputs": [
    {
     "data": {
      "text/plain": [
       "180605546136505.6"
      ]
     },
     "execution_count": 313,
     "metadata": {},
     "output_type": "execute_result"
    }
   ],
   "source": [
    "# Mencari Measure of Spread: Variance dari kolom BOROUGH\n",
    "# Degree of Freedom = 1 karena data merupakan sample\n",
    "df['SALE PRICE'].var(ddof=1)"
   ]
  },
  {
   "cell_type": "code",
   "execution_count": 314,
   "metadata": {},
   "outputs": [
    {
     "data": {
      "text/plain": [
       "13438956.288957324"
      ]
     },
     "execution_count": 314,
     "metadata": {},
     "output_type": "execute_result"
    }
   ],
   "source": [
    "df['SALE PRICE'].std()"
   ]
  },
  {
   "cell_type": "markdown",
   "metadata": {},
   "source": [
    "Dari 2 informasi diatas, terlihat bahwa kolom SALE PRICE memiliki data dengan variansi dan standar deviasi yang besar"
   ]
  },
  {
   "cell_type": "code",
   "execution_count": 321,
   "metadata": {},
   "outputs": [
    {
     "name": "stderr",
     "output_type": "stream",
     "text": [
      "C:\\Users\\acer\\anaconda3\\lib\\site-packages\\seaborn\\distributions.py:2619: FutureWarning: `distplot` is a deprecated function and will be removed in a future version. Please adapt your code to use either `displot` (a figure-level function with similar flexibility) or `histplot` (an axes-level function for histograms).\n",
      "  warnings.warn(msg, FutureWarning)\n"
     ]
    },
    {
     "data": {
      "image/png": "[encoded data removed]",
      "text/plain": [
       "<Figure size 360x360 with 1 Axes>"
      ]
     },
     "metadata": {},
     "output_type": "display_data"
    }
   ],
   "source": [
    "#Analisis distribusi data kolom BLOCK yaitu SUB BOROUGH lokasi properti yang dijual\n",
    "\n",
    "ax = sns.distplot(\n",
    "    df['BLOCK'],\n",
    "    bins=10,\n",
    "    kde=True,\n",
    "    color='skyblue',\n",
    "    hist_kws={'linewidth':10, 'alpha':.5}\n",
    ")\n",
    "ax.set(xlabel=\"Distribusi Normal\", ylabel='Frekuensi');"
   ]
  },
  {
   "cell_type": "markdown",
   "metadata": {},
   "source": [
    "- Terlihat dari grafik diatas, data BLOCK terdistribusi normal dengan kemiringan positif"
   ]
  },
  {
   "cell_type": "markdown",
   "metadata": {},
   "source": [
    "## Confidence Interval"
   ]
  },
  {
   "cell_type": "code",
   "execution_count": 316,
   "metadata": {},
   "outputs": [
    {
     "data": {
      "text/html": [
       "<div>\n",
       "<style scoped>\n",
       "    .dataframe tbody tr th:only-of-type {\n",
       "        vertical-align: middle;\n",
       "    }\n",
       "\n",
       "    .dataframe tbody tr th {\n",
       "        vertical-align: top;\n",
       "    }\n",
       "\n",
       "    .dataframe thead tr th {\n",
       "        text-align: left;\n",
       "    }\n",
       "\n",
       "    .dataframe thead tr:last-of-type th {\n",
       "        text-align: right;\n",
       "    }\n",
       "</style>\n",
       "<table border=\"1\" class=\"dataframe\">\n",
       "  <thead>\n",
       "    <tr>\n",
       "      <th></th>\n",
       "      <th colspan=\"3\" halign=\"left\">SALE PRICE</th>\n",
       "    </tr>\n",
       "    <tr>\n",
       "      <th></th>\n",
       "      <th>mean</th>\n",
       "      <th>std</th>\n",
       "      <th>size</th>\n",
       "    </tr>\n",
       "    <tr>\n",
       "      <th>BOROUGH</th>\n",
       "      <th></th>\n",
       "      <th></th>\n",
       "      <th></th>\n",
       "    </tr>\n",
       "  </thead>\n",
       "  <tbody>\n",
       "    <tr>\n",
       "      <th>1</th>\n",
       "      <td>1.910402e+07</td>\n",
       "      <td>8.768322e+07</td>\n",
       "      <td>1013</td>\n",
       "    </tr>\n",
       "    <tr>\n",
       "      <th>2</th>\n",
       "      <td>5.946771e+05</td>\n",
       "      <td>2.793509e+06</td>\n",
       "      <td>6994</td>\n",
       "    </tr>\n",
       "    <tr>\n",
       "      <th>3</th>\n",
       "      <td>8.410834e+05</td>\n",
       "      <td>3.951912e+06</td>\n",
       "      <td>23843</td>\n",
       "    </tr>\n",
       "    <tr>\n",
       "      <th>4</th>\n",
       "      <td>9.357566e+05</td>\n",
       "      <td>4.084398e+06</td>\n",
       "      <td>11292</td>\n",
       "    </tr>\n",
       "    <tr>\n",
       "      <th>5</th>\n",
       "      <td>5.752012e+05</td>\n",
       "      <td>2.017233e+06</td>\n",
       "      <td>5311</td>\n",
       "    </tr>\n",
       "  </tbody>\n",
       "</table>\n",
       "</div>"
      ],
      "text/plain": [
       "           SALE PRICE                     \n",
       "                 mean           std   size\n",
       "BOROUGH                                   \n",
       "1        1.910402e+07  8.768322e+07   1013\n",
       "2        5.946771e+05  2.793509e+06   6994\n",
       "3        8.410834e+05  3.951912e+06  23843\n",
       "4        9.357566e+05  4.084398e+06  11292\n",
       "5        5.752012e+05  2.017233e+06   5311"
      ]
     },
     "execution_count": 316,
     "metadata": {},
     "output_type": "execute_result"
    }
   ],
   "source": [
    "# Mencari Confidence Interval: Mean dari kolom SALE PRICE \n",
    "df.groupby(\"BOROUGH\").agg({'SALE PRICE':[np.mean, np.std, np.size]})"
   ]
  },
  {
   "cell_type": "code",
   "execution_count": 317,
   "metadata": {},
   "outputs": [],
   "source": [
    "#Confidence Interval pada data BOROUGH 1\n",
    "mean_fe = 3.34\n",
    "sd = 2.41\n",
    "n = 18102\n",
    "z_score = 1.96"
   ]
  },
  {
   "cell_type": "code",
   "execution_count": 318,
   "metadata": {},
   "outputs": [],
   "source": [
    "se = sd / np.sqrt(n)"
   ]
  },
  {
   "cell_type": "code",
   "execution_count": 319,
   "metadata": {},
   "outputs": [
    {
     "data": {
      "text/plain": [
       "(3.304891697339519, 3.3751083026604807)"
      ]
     },
     "execution_count": 319,
     "metadata": {},
     "output_type": "execute_result"
    }
   ],
   "source": [
    "lcb = mean_fe - z_score * se\n",
    "ucb = mean_fe + z_score * se\n",
    "lcb, ucb"
   ]
  },
  {
   "cell_type": "markdown",
   "metadata": {},
   "source": [
    "## Hypothesis Testing"
   ]
  },
  {
   "cell_type": "code",
   "execution_count": 337,
   "metadata": {},
   "outputs": [
    {
     "data": {
      "text/plain": [
       "6434066021.0"
      ]
     },
     "execution_count": 337,
     "metadata": {},
     "output_type": "execute_result"
    }
   ],
   "source": [
    "# Total Penjualan Properti pada tahun 2017 pada wilayah Queen\n",
    "sale_2017=df[(df['SALE DATE'].dt.year == 2017) & (df.BOROUGH==4)]\n",
    "total_2017=sale_2017['SALE PRICE'].sum()\n",
    "total_2017"
   ]
  },
  {
   "cell_type": "code",
   "execution_count": 338,
   "metadata": {},
   "outputs": [
    {
     "data": {
      "text/plain": [
       "4132497633.0"
      ]
     },
     "execution_count": 338,
     "metadata": {},
     "output_type": "execute_result"
    }
   ],
   "source": [
    "# Total Penjualan Properti pada tahun 2016 pada wilayah Queen\n",
    "sale_2016=df[(df['SALE DATE'].dt.year == 2016) & (df.BOROUGH==4)]\n",
    "total_2016=sale_2016['SALE PRICE'].sum()\n",
    "total_2016"
   ]
  },
  {
   "cell_type": "code",
   "execution_count": 340,
   "metadata": {},
   "outputs": [
    {
     "data": {
      "text/plain": [
       "55.694366758273716"
      ]
     },
     "execution_count": 340,
     "metadata": {},
     "output_type": "execute_result"
    }
   ],
   "source": [
    "# Kenaikan penjualan dari 2016 ke 2017\n",
    "kenaikan=((total_2017-total_2016)/total_2016)*100\n",
    "kenaikan"
   ]
  },
  {
   "cell_type": "code",
   "execution_count": 348,
   "metadata": {},
   "outputs": [
    {
     "name": "stdout",
     "output_type": "stream",
     "text": [
      "Total data\n",
      "2017 : (7303, 20)\n",
      "2016 : (3989, 20)\n",
      "Kenaikan : 55.694366758273716%\n"
     ]
    }
   ],
   "source": [
    "print(f\"Total data\\n2017 : {sale_2017.shape}\\n2016 : {sale_2016.shape}\\nKenaikan : {kenaikan}%\")"
   ]
  },
  {
   "cell_type": "code",
   "execution_count": 351,
   "metadata": {},
   "outputs": [
    {
     "data": {
      "text/plain": [
       "(-61.94351287970989, 0.0)"
      ]
     },
     "execution_count": 351,
     "metadata": {},
     "output_type": "execute_result"
    }
   ],
   "source": [
    "import statsmodels.api as sm\n",
    "\n",
    "n = 7303+3989\n",
    "pnull = 0.84\n",
    "phat_sample = 0.55\n",
    "\n",
    "sm.stats.proportions_ztest(phat_sample * n, n, pnull, alternative='smaller')"
   ]
  },
  {
   "cell_type": "markdown",
   "metadata": {},
   "source": [
    "Dilansir di Laporan REBNY tahun 2017 (https://www.rebny.com/content/rebny/en/research/residentialsales/4th_Quarter_2017_New_York_City_Residential_Sales_Report.html) disebutkan bahwa kenaikan penjualan properti di wilayah Queen mengalami kenaikan sebesar 84% dari tahun sebelumnya.\n",
    "\n",
    "Sedangkan berdasarkan data diatas, kenaikan hanya terjadi sebesar 55% dari tahun sebelumnya.\n",
    "Setelah dilakukan proportion z_test didapatkan p-value diatas adalah 0. Maka hipotesis alternatif dapat menggantikan hipotesis null"
   ]
  },
  {
   "cell_type": "markdown",
   "metadata": {},
   "source": []
  }
 ],
 "metadata": {
  "interpreter": {
   "hash": "3a7853f465984184c2db926f12cf0514f49bd82ebd08c64e7d47bb74214f72b4"
  },
  "kernelspec": {
   "display_name": "Python 3.9.7 ('base')",
   "language": "python",
   "name": "python3"
  },
  "language_info": {
   "codemirror_mode": {
    "name": "ipython",
    "version": 3
   },
   "file_extension": ".py",
   "mimetype": "text/x-python",
   "name": "python",
   "nbconvert_exporter": "python",
   "pygments_lexer": "ipython3",
   "version": "3.9.7"
  },
  "orig_nbformat": 4
 },
 "nbformat": 4,
 "nbformat_minor": 2
}
