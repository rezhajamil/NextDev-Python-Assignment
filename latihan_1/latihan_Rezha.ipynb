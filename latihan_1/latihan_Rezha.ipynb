{
 "cells": [
  {
   "cell_type": "markdown",
   "metadata": {},
   "source": [
    "# Soal 1"
   ]
  },
  {
   "cell_type": "code",
   "execution_count": 1,
   "metadata": {},
   "outputs": [],
   "source": [
    "def calculator(a,b,operation):\n",
    "    data_type = [int,float]\n",
    "    if(type(a) in data_type and type(b) in data_type):\n",
    "        if operation == '+':\n",
    "            result = a + b\n",
    "        elif operation == '-':\n",
    "            result = a - b\n",
    "        elif operation == '*':\n",
    "            result = a * b\n",
    "        elif operation == '/':\n",
    "            result = a / b\n",
    "        else:\n",
    "            result=\"Operasi Tidak Dikenal\"\n",
    "    else:\n",
    "        result = \"Inputan Harus Angka\"\n",
    "    print(result)"
   ]
  },
  {
   "cell_type": "markdown",
   "metadata": {},
   "source": [
    "##### Tes Soal 1"
   ]
  },
  {
   "cell_type": "code",
   "execution_count": 2,
   "metadata": {},
   "outputs": [
    {
     "name": "stdout",
     "output_type": "stream",
     "text": [
      "6\n",
      "-2\n",
      "8\n",
      "0.5\n"
     ]
    }
   ],
   "source": [
    "calculator(2,4,'+')\n",
    "calculator(2,4,'-')\n",
    "calculator(2,4,'*')\n",
    "calculator(2,4,'/')"
   ]
  },
  {
   "cell_type": "markdown",
   "metadata": {},
   "source": [
    "# Soal 2"
   ]
  },
  {
   "cell_type": "code",
   "execution_count": 8,
   "metadata": {},
   "outputs": [],
   "source": [
    "def is_palyndrome(word):\n",
    "    if(word == word[::-1]):\n",
    "        print(f\"Kata {word} adalah palindrome\")\n",
    "    else:\n",
    "        print(f\"Kata {word} bukan palindrome\")"
   ]
  },
  {
   "cell_type": "markdown",
   "metadata": {},
   "source": [
    "#### Tes Soal 2"
   ]
  },
  {
   "cell_type": "code",
   "execution_count": 9,
   "metadata": {},
   "outputs": [
    {
     "name": "stdout",
     "output_type": "stream",
     "text": [
      "Kata katak adalah palindrome\n",
      "Kata muda bukan palindrome\n"
     ]
    }
   ],
   "source": [
    "is_palyndrome('katak')\n",
    "is_palyndrome('muda')"
   ]
  },
  {
   "cell_type": "markdown",
   "metadata": {},
   "source": [
    "# Soal 3"
   ]
  },
  {
   "cell_type": "code",
   "execution_count": 29,
   "metadata": {},
   "outputs": [],
   "source": [
    "def guess_number():\n",
    "    import random\n",
    "    guess = random.randint(0,9)\n",
    "    for i in range(1,4):\n",
    "        user_guess = int(input(\"Masukkan Angka : \"))\n",
    "        if(user_guess == guess):\n",
    "            print(\"Selamat Anda Benar\")\n",
    "            print(f\"Anda Sudah Memasukkan {i} kali\")\n",
    "            break\n",
    "        elif(user_guess > guess):\n",
    "            print(\"Angka Terlalu Besar\")\n",
    "        else:\n",
    "            print(\"Angka Terlalu Kecil\")\n",
    "    else:\n",
    "        print(f\"Game Over! Jawabannya adalah {guess}\")"
   ]
  },
  {
   "cell_type": "markdown",
   "metadata": {},
   "source": [
    "#### Tes Soal 3"
   ]
  },
  {
   "cell_type": "code",
   "execution_count": 30,
   "metadata": {},
   "outputs": [
    {
     "name": "stdout",
     "output_type": "stream",
     "text": [
      "Angka Terlalu Besar\n",
      "Angka Terlalu Kecil\n",
      "Selamat Anda Benar\n",
      "Anda Sudah Memasukkan 3 kali\n"
     ]
    }
   ],
   "source": [
    "guess_number()"
   ]
  },
  {
   "cell_type": "markdown",
   "metadata": {},
   "source": [
    "# Soal 4"
   ]
  },
  {
   "cell_type": "code",
   "execution_count": 31,
   "metadata": {},
   "outputs": [],
   "source": [
    "def my_order():\n",
    "    orders=list(input(\"Masukkan Orderan : \").split(','))\n",
    "    for i in range(len(orders)):\n",
    "        print(f\"Saya pesan {orders[i]}\")"
   ]
  },
  {
   "cell_type": "markdown",
   "metadata": {},
   "source": [
    "#### Tes Soal 4"
   ]
  },
  {
   "cell_type": "code",
   "execution_count": 32,
   "metadata": {},
   "outputs": [
    {
     "name": "stdout",
     "output_type": "stream",
     "text": [
      "Saya pesan ayam\n",
      "Saya pesan nasi\n",
      "Saya pesan mandi\n"
     ]
    }
   ],
   "source": [
    "my_order()"
   ]
  },
  {
   "cell_type": "markdown",
   "metadata": {},
   "source": [
    "# Soal 5"
   ]
  },
  {
   "cell_type": "code",
   "execution_count": 44,
   "metadata": {},
   "outputs": [],
   "source": [
    "def spell_numbers(numbers):\n",
    "    arr=[\"\",\"Satu\",\"Dua\",\"Tiga\",\"Empat\",\"Lima\",\"Enam\",\"Tujuh\",\"Delapan\",\"Sembilan\",\"Sepuluh\",\"Sebelas\"]\n",
    "    n=int(numbers)\n",
    "    \n",
    "    if numbers==0:\n",
    "        hasil=\"Nol\"\n",
    "    elif n>=0 and n<=11:\n",
    "        hasil=arr[n]\n",
    "    elif n<20:\n",
    "        hasil=arr[n%10]+\" Belas\"\n",
    "    elif n<100:\n",
    "        hasil=arr[n//10]+\" Puluh \"+arr[n%10]\n",
    "    print(hasil)"
   ]
  },
  {
   "cell_type": "markdown",
   "metadata": {},
   "source": [
    "#### Tes Soal 5"
   ]
  },
  {
   "cell_type": "code",
   "execution_count": 46,
   "metadata": {},
   "outputs": [
    {
     "name": "stdout",
     "output_type": "stream",
     "text": [
      "Nol\n",
      "Tujuh\n",
      "Sebelas\n",
      "Tujuh Belas\n",
      "Tiga Puluh \n",
      "Sembilan Puluh Sembilan\n"
     ]
    }
   ],
   "source": [
    "spell_numbers(0)\n",
    "spell_numbers(7)\n",
    "spell_numbers(11)\n",
    "spell_numbers(17)\n",
    "spell_numbers(30)\n",
    "spell_numbers(99)"
   ]
  },
  {
   "cell_type": "markdown",
   "metadata": {},
   "source": [
    "# Terimakasih :)"
   ]
  }
 ],
 "metadata": {
  "interpreter": {
   "hash": "3a7853f465984184c2db926f12cf0514f49bd82ebd08c64e7d47bb74214f72b4"
  },
  "kernelspec": {
   "display_name": "Python 3.9.7 ('base')",
   "language": "python",
   "name": "python3"
  },
  "language_info": {
   "codemirror_mode": {
    "name": "ipython",
    "version": 3
   },
   "file_extension": ".py",
   "mimetype": "text/x-python",
   "name": "python",
   "nbconvert_exporter": "python",
   "pygments_lexer": "ipython3",
   "version": "3.9.7"
  },
  "orig_nbformat": 4
 },
 "nbformat": 4,
 "nbformat_minor": 2
}
