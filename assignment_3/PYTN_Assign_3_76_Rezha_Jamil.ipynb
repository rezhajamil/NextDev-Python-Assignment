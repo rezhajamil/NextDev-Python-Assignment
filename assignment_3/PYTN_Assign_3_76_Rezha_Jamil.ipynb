{
 "cells": [
  {
   "cell_type": "code",
   "execution_count": 2,
   "metadata": {},
   "outputs": [],
   "source": [
    "# import library\n",
    "from sklearn.linear_model import LogisticRegression\n",
    "from sklearn.neighbors import KNeighborsClassifier\n",
    "from sklearn.svm import LinearSVC\n",
    "from sklearn.tree import DecisionTreeClassifier\n",
    "from sklearn.ensemble import RandomForestClassifier\n",
    "from sklearn.naive_bayes import GaussianNB\n",
    "from sklearn.pipeline import make_pipeline\n",
    "from sklearn.impute import SimpleImputer\n",
    "from sklearn.preprocessing import StandardScaler\n",
    "from sklearn.preprocessing import OneHotEncoder\n",
    "from sklearn.compose import ColumnTransformer\n",
    "from sklearn.model_selection import train_test_split\n",
    "from sklearn.metrics import classification_report, confusion_matrix, accuracy_score\n",
    "import numpy as np\n",
    "import pandas as pd\n",
    "pd.set_option('display.max_columns', None)\n",
    "import matplotlib.pyplot as plt"
   ]
  },
  {
   "cell_type": "markdown",
   "metadata": {},
   "source": [
    "# Load Data, EDA, dan Data Cleansing"
   ]
  },
  {
   "cell_type": "code",
   "execution_count": 3,
   "metadata": {},
   "outputs": [
    {
     "data": {
      "text/html": [
       "<div>\n",
       "<style scoped>\n",
       "    .dataframe tbody tr th:only-of-type {\n",
       "        vertical-align: middle;\n",
       "    }\n",
       "\n",
       "    .dataframe tbody tr th {\n",
       "        vertical-align: top;\n",
       "    }\n",
       "\n",
       "    .dataframe thead th {\n",
       "        text-align: right;\n",
       "    }\n",
       "</style>\n",
       "<table border=\"1\" class=\"dataframe\">\n",
       "  <thead>\n",
       "    <tr style=\"text-align: right;\">\n",
       "      <th></th>\n",
       "      <th>age</th>\n",
       "      <th>job</th>\n",
       "      <th>marital</th>\n",
       "      <th>education</th>\n",
       "      <th>default</th>\n",
       "      <th>housing</th>\n",
       "      <th>loan</th>\n",
       "      <th>contact</th>\n",
       "      <th>month</th>\n",
       "      <th>day_of_week</th>\n",
       "      <th>duration</th>\n",
       "      <th>campaign</th>\n",
       "      <th>pdays</th>\n",
       "      <th>previous</th>\n",
       "      <th>poutcome</th>\n",
       "      <th>emp.var.rate</th>\n",
       "      <th>cons.price.idx</th>\n",
       "      <th>cons.conf.idx</th>\n",
       "      <th>euribor3m</th>\n",
       "      <th>nr.employed</th>\n",
       "      <th>y</th>\n",
       "    </tr>\n",
       "  </thead>\n",
       "  <tbody>\n",
       "    <tr>\n",
       "      <th>0</th>\n",
       "      <td>56</td>\n",
       "      <td>housemaid</td>\n",
       "      <td>married</td>\n",
       "      <td>basic.4y</td>\n",
       "      <td>no</td>\n",
       "      <td>no</td>\n",
       "      <td>no</td>\n",
       "      <td>telephone</td>\n",
       "      <td>may</td>\n",
       "      <td>mon</td>\n",
       "      <td>261</td>\n",
       "      <td>1</td>\n",
       "      <td>999</td>\n",
       "      <td>0</td>\n",
       "      <td>nonexistent</td>\n",
       "      <td>1.1</td>\n",
       "      <td>93.994</td>\n",
       "      <td>-36.4</td>\n",
       "      <td>4.857</td>\n",
       "      <td>5191.0</td>\n",
       "      <td>no</td>\n",
       "    </tr>\n",
       "    <tr>\n",
       "      <th>1</th>\n",
       "      <td>57</td>\n",
       "      <td>services</td>\n",
       "      <td>married</td>\n",
       "      <td>high.school</td>\n",
       "      <td>unknown</td>\n",
       "      <td>no</td>\n",
       "      <td>no</td>\n",
       "      <td>telephone</td>\n",
       "      <td>may</td>\n",
       "      <td>mon</td>\n",
       "      <td>149</td>\n",
       "      <td>1</td>\n",
       "      <td>999</td>\n",
       "      <td>0</td>\n",
       "      <td>nonexistent</td>\n",
       "      <td>1.1</td>\n",
       "      <td>93.994</td>\n",
       "      <td>-36.4</td>\n",
       "      <td>4.857</td>\n",
       "      <td>5191.0</td>\n",
       "      <td>no</td>\n",
       "    </tr>\n",
       "    <tr>\n",
       "      <th>2</th>\n",
       "      <td>37</td>\n",
       "      <td>services</td>\n",
       "      <td>married</td>\n",
       "      <td>high.school</td>\n",
       "      <td>no</td>\n",
       "      <td>yes</td>\n",
       "      <td>no</td>\n",
       "      <td>telephone</td>\n",
       "      <td>may</td>\n",
       "      <td>mon</td>\n",
       "      <td>226</td>\n",
       "      <td>1</td>\n",
       "      <td>999</td>\n",
       "      <td>0</td>\n",
       "      <td>nonexistent</td>\n",
       "      <td>1.1</td>\n",
       "      <td>93.994</td>\n",
       "      <td>-36.4</td>\n",
       "      <td>4.857</td>\n",
       "      <td>5191.0</td>\n",
       "      <td>no</td>\n",
       "    </tr>\n",
       "    <tr>\n",
       "      <th>3</th>\n",
       "      <td>40</td>\n",
       "      <td>admin.</td>\n",
       "      <td>married</td>\n",
       "      <td>basic.6y</td>\n",
       "      <td>no</td>\n",
       "      <td>no</td>\n",
       "      <td>no</td>\n",
       "      <td>telephone</td>\n",
       "      <td>may</td>\n",
       "      <td>mon</td>\n",
       "      <td>151</td>\n",
       "      <td>1</td>\n",
       "      <td>999</td>\n",
       "      <td>0</td>\n",
       "      <td>nonexistent</td>\n",
       "      <td>1.1</td>\n",
       "      <td>93.994</td>\n",
       "      <td>-36.4</td>\n",
       "      <td>4.857</td>\n",
       "      <td>5191.0</td>\n",
       "      <td>no</td>\n",
       "    </tr>\n",
       "    <tr>\n",
       "      <th>4</th>\n",
       "      <td>56</td>\n",
       "      <td>services</td>\n",
       "      <td>married</td>\n",
       "      <td>high.school</td>\n",
       "      <td>no</td>\n",
       "      <td>no</td>\n",
       "      <td>yes</td>\n",
       "      <td>telephone</td>\n",
       "      <td>may</td>\n",
       "      <td>mon</td>\n",
       "      <td>307</td>\n",
       "      <td>1</td>\n",
       "      <td>999</td>\n",
       "      <td>0</td>\n",
       "      <td>nonexistent</td>\n",
       "      <td>1.1</td>\n",
       "      <td>93.994</td>\n",
       "      <td>-36.4</td>\n",
       "      <td>4.857</td>\n",
       "      <td>5191.0</td>\n",
       "      <td>no</td>\n",
       "    </tr>\n",
       "  </tbody>\n",
       "</table>\n",
       "</div>"
      ],
      "text/plain": [
       "   age        job  marital    education  default housing loan    contact  \\\n",
       "0   56  housemaid  married     basic.4y       no      no   no  telephone   \n",
       "1   57   services  married  high.school  unknown      no   no  telephone   \n",
       "2   37   services  married  high.school       no     yes   no  telephone   \n",
       "3   40     admin.  married     basic.6y       no      no   no  telephone   \n",
       "4   56   services  married  high.school       no      no  yes  telephone   \n",
       "\n",
       "  month day_of_week  duration  campaign  pdays  previous     poutcome  \\\n",
       "0   may         mon       261         1    999         0  nonexistent   \n",
       "1   may         mon       149         1    999         0  nonexistent   \n",
       "2   may         mon       226         1    999         0  nonexistent   \n",
       "3   may         mon       151         1    999         0  nonexistent   \n",
       "4   may         mon       307         1    999         0  nonexistent   \n",
       "\n",
       "   emp.var.rate  cons.price.idx  cons.conf.idx  euribor3m  nr.employed   y  \n",
       "0           1.1          93.994          -36.4      4.857       5191.0  no  \n",
       "1           1.1          93.994          -36.4      4.857       5191.0  no  \n",
       "2           1.1          93.994          -36.4      4.857       5191.0  no  \n",
       "3           1.1          93.994          -36.4      4.857       5191.0  no  \n",
       "4           1.1          93.994          -36.4      4.857       5191.0  no  "
      ]
     },
     "execution_count": 3,
     "metadata": {},
     "output_type": "execute_result"
    }
   ],
   "source": [
    "#siapkan dataset\n",
    "df=pd.read_csv('bank-additional-full.csv', sep=';')\n",
    "df.head()"
   ]
  },
  {
   "cell_type": "code",
   "execution_count": 4,
   "metadata": {},
   "outputs": [
    {
     "name": "stdout",
     "output_type": "stream",
     "text": [
      "<class 'pandas.core.frame.DataFrame'>\n",
      "RangeIndex: 41188 entries, 0 to 41187\n",
      "Data columns (total 21 columns):\n",
      " #   Column          Non-Null Count  Dtype  \n",
      "---  ------          --------------  -----  \n",
      " 0   age             41188 non-null  int64  \n",
      " 1   job             41188 non-null  object \n",
      " 2   marital         41188 non-null  object \n",
      " 3   education       41188 non-null  object \n",
      " 4   default         41188 non-null  object \n",
      " 5   housing         41188 non-null  object \n",
      " 6   loan            41188 non-null  object \n",
      " 7   contact         41188 non-null  object \n",
      " 8   month           41188 non-null  object \n",
      " 9   day_of_week     41188 non-null  object \n",
      " 10  duration        41188 non-null  int64  \n",
      " 11  campaign        41188 non-null  int64  \n",
      " 12  pdays           41188 non-null  int64  \n",
      " 13  previous        41188 non-null  int64  \n",
      " 14  poutcome        41188 non-null  object \n",
      " 15  emp.var.rate    41188 non-null  float64\n",
      " 16  cons.price.idx  41188 non-null  float64\n",
      " 17  cons.conf.idx   41188 non-null  float64\n",
      " 18  euribor3m       41188 non-null  float64\n",
      " 19  nr.employed     41188 non-null  float64\n",
      " 20  y               41188 non-null  object \n",
      "dtypes: float64(5), int64(5), object(11)\n",
      "memory usage: 6.6+ MB\n"
     ]
    }
   ],
   "source": [
    "df.info()"
   ]
  },
  {
   "cell_type": "markdown",
   "metadata": {},
   "source": [
    "Tidak ada baris yang dan data sudah sesuai dengan bentuknya masing-masing"
   ]
  },
  {
   "cell_type": "code",
   "execution_count": 5,
   "metadata": {},
   "outputs": [
    {
     "data": {
      "text/html": [
       "<div>\n",
       "<style scoped>\n",
       "    .dataframe tbody tr th:only-of-type {\n",
       "        vertical-align: middle;\n",
       "    }\n",
       "\n",
       "    .dataframe tbody tr th {\n",
       "        vertical-align: top;\n",
       "    }\n",
       "\n",
       "    .dataframe thead th {\n",
       "        text-align: right;\n",
       "    }\n",
       "</style>\n",
       "<table border=\"1\" class=\"dataframe\">\n",
       "  <thead>\n",
       "    <tr style=\"text-align: right;\">\n",
       "      <th></th>\n",
       "      <th>age</th>\n",
       "      <th>duration</th>\n",
       "      <th>campaign</th>\n",
       "      <th>pdays</th>\n",
       "      <th>previous</th>\n",
       "      <th>emp.var.rate</th>\n",
       "      <th>cons.price.idx</th>\n",
       "      <th>cons.conf.idx</th>\n",
       "      <th>euribor3m</th>\n",
       "      <th>nr.employed</th>\n",
       "    </tr>\n",
       "  </thead>\n",
       "  <tbody>\n",
       "    <tr>\n",
       "      <th>count</th>\n",
       "      <td>41188.00000</td>\n",
       "      <td>41188.000000</td>\n",
       "      <td>41188.000000</td>\n",
       "      <td>41188.000000</td>\n",
       "      <td>41188.000000</td>\n",
       "      <td>41188.000000</td>\n",
       "      <td>41188.000000</td>\n",
       "      <td>41188.000000</td>\n",
       "      <td>41188.000000</td>\n",
       "      <td>41188.000000</td>\n",
       "    </tr>\n",
       "    <tr>\n",
       "      <th>mean</th>\n",
       "      <td>40.02406</td>\n",
       "      <td>258.285010</td>\n",
       "      <td>2.567593</td>\n",
       "      <td>962.475454</td>\n",
       "      <td>0.172963</td>\n",
       "      <td>0.081886</td>\n",
       "      <td>93.575664</td>\n",
       "      <td>-40.502600</td>\n",
       "      <td>3.621291</td>\n",
       "      <td>5167.035911</td>\n",
       "    </tr>\n",
       "    <tr>\n",
       "      <th>std</th>\n",
       "      <td>10.42125</td>\n",
       "      <td>259.279249</td>\n",
       "      <td>2.770014</td>\n",
       "      <td>186.910907</td>\n",
       "      <td>0.494901</td>\n",
       "      <td>1.570960</td>\n",
       "      <td>0.578840</td>\n",
       "      <td>4.628198</td>\n",
       "      <td>1.734447</td>\n",
       "      <td>72.251528</td>\n",
       "    </tr>\n",
       "    <tr>\n",
       "      <th>min</th>\n",
       "      <td>17.00000</td>\n",
       "      <td>0.000000</td>\n",
       "      <td>1.000000</td>\n",
       "      <td>0.000000</td>\n",
       "      <td>0.000000</td>\n",
       "      <td>-3.400000</td>\n",
       "      <td>92.201000</td>\n",
       "      <td>-50.800000</td>\n",
       "      <td>0.634000</td>\n",
       "      <td>4963.600000</td>\n",
       "    </tr>\n",
       "    <tr>\n",
       "      <th>25%</th>\n",
       "      <td>32.00000</td>\n",
       "      <td>102.000000</td>\n",
       "      <td>1.000000</td>\n",
       "      <td>999.000000</td>\n",
       "      <td>0.000000</td>\n",
       "      <td>-1.800000</td>\n",
       "      <td>93.075000</td>\n",
       "      <td>-42.700000</td>\n",
       "      <td>1.344000</td>\n",
       "      <td>5099.100000</td>\n",
       "    </tr>\n",
       "    <tr>\n",
       "      <th>50%</th>\n",
       "      <td>38.00000</td>\n",
       "      <td>180.000000</td>\n",
       "      <td>2.000000</td>\n",
       "      <td>999.000000</td>\n",
       "      <td>0.000000</td>\n",
       "      <td>1.100000</td>\n",
       "      <td>93.749000</td>\n",
       "      <td>-41.800000</td>\n",
       "      <td>4.857000</td>\n",
       "      <td>5191.000000</td>\n",
       "    </tr>\n",
       "    <tr>\n",
       "      <th>75%</th>\n",
       "      <td>47.00000</td>\n",
       "      <td>319.000000</td>\n",
       "      <td>3.000000</td>\n",
       "      <td>999.000000</td>\n",
       "      <td>0.000000</td>\n",
       "      <td>1.400000</td>\n",
       "      <td>93.994000</td>\n",
       "      <td>-36.400000</td>\n",
       "      <td>4.961000</td>\n",
       "      <td>5228.100000</td>\n",
       "    </tr>\n",
       "    <tr>\n",
       "      <th>max</th>\n",
       "      <td>98.00000</td>\n",
       "      <td>4918.000000</td>\n",
       "      <td>56.000000</td>\n",
       "      <td>999.000000</td>\n",
       "      <td>7.000000</td>\n",
       "      <td>1.400000</td>\n",
       "      <td>94.767000</td>\n",
       "      <td>-26.900000</td>\n",
       "      <td>5.045000</td>\n",
       "      <td>5228.100000</td>\n",
       "    </tr>\n",
       "  </tbody>\n",
       "</table>\n",
       "</div>"
      ],
      "text/plain": [
       "               age      duration      campaign         pdays      previous  \\\n",
       "count  41188.00000  41188.000000  41188.000000  41188.000000  41188.000000   \n",
       "mean      40.02406    258.285010      2.567593    962.475454      0.172963   \n",
       "std       10.42125    259.279249      2.770014    186.910907      0.494901   \n",
       "min       17.00000      0.000000      1.000000      0.000000      0.000000   \n",
       "25%       32.00000    102.000000      1.000000    999.000000      0.000000   \n",
       "50%       38.00000    180.000000      2.000000    999.000000      0.000000   \n",
       "75%       47.00000    319.000000      3.000000    999.000000      0.000000   \n",
       "max       98.00000   4918.000000     56.000000    999.000000      7.000000   \n",
       "\n",
       "       emp.var.rate  cons.price.idx  cons.conf.idx     euribor3m   nr.employed  \n",
       "count  41188.000000    41188.000000   41188.000000  41188.000000  41188.000000  \n",
       "mean       0.081886       93.575664     -40.502600      3.621291   5167.035911  \n",
       "std        1.570960        0.578840       4.628198      1.734447     72.251528  \n",
       "min       -3.400000       92.201000     -50.800000      0.634000   4963.600000  \n",
       "25%       -1.800000       93.075000     -42.700000      1.344000   5099.100000  \n",
       "50%        1.100000       93.749000     -41.800000      4.857000   5191.000000  \n",
       "75%        1.400000       93.994000     -36.400000      4.961000   5228.100000  \n",
       "max        1.400000       94.767000     -26.900000      5.045000   5228.100000  "
      ]
     },
     "execution_count": 5,
     "metadata": {},
     "output_type": "execute_result"
    }
   ],
   "source": [
    "df.describe()"
   ]
  },
  {
   "cell_type": "code",
   "execution_count": 6,
   "metadata": {},
   "outputs": [
    {
     "data": {
      "text/plain": [
       "(41184, 21)"
      ]
     },
     "execution_count": 6,
     "metadata": {},
     "output_type": "execute_result"
    }
   ],
   "source": [
    "# Pada dataset, jika duration=0 dan y=0, berarti client belum di contact\n",
    "# Oleh karena itu hapus data dengan kondisi seperti itu\n",
    "\n",
    "kondisi=(df['duration']==0) & (df['y']=='no')\n",
    "df=df[~kondisi]\n",
    "df.shape"
   ]
  },
  {
   "cell_type": "markdown",
   "metadata": {},
   "source": [
    "### Cek Korelasi"
   ]
  },
  {
   "cell_type": "code",
   "execution_count": 7,
   "metadata": {},
   "outputs": [
    {
     "data": {
      "image/png": "[encoded data removed]",
      "text/plain": [
       "<Figure size 432x288 with 1 Axes>"
      ]
     },
     "metadata": {
      "needs_background": "light"
     },
     "output_type": "display_data"
    }
   ],
   "source": [
    "# Korelasi Umur dan Durasi\n",
    "plt.scatter(df['age'], df['duration']);\n",
    "\n",
    "plt.title('Umur vs Durasi');\n",
    "plt.xlabel('Umur');\n",
    "plt.ylabel('Durasi');"
   ]
  },
  {
   "cell_type": "markdown",
   "metadata": {},
   "source": [
    "Dari grafik diatas,kita dapat melihat bahwa semakin tua umur maka durasi cenderung semakin rendah. Namun,  umur dan durasi memiliki korelasi negatif yang lemah."
   ]
  },
  {
   "cell_type": "code",
   "execution_count": 8,
   "metadata": {},
   "outputs": [
    {
     "data": {
      "image/png": "[encoded data removed]",
      "text/plain": [
       "<Figure size 432x288 with 1 Axes>"
      ]
     },
     "metadata": {
      "needs_background": "light"
     },
     "output_type": "display_data"
    }
   ],
   "source": [
    "# Korelasi Umur dan Campaign\n",
    "plt.scatter(df['age'], df['campaign']);\n",
    "\n",
    "plt.title('Umur vs Campaign');\n",
    "plt.xlabel('Umur');\n",
    "plt.ylabel('Campaign');"
   ]
  },
  {
   "cell_type": "markdown",
   "metadata": {},
   "source": [
    "Dari grafik diatas,kita dapat melihat bahwa semakin tua umur maka client akan semakin sedikit dihubungi selama masa campaign. "
   ]
  },
  {
   "cell_type": "code",
   "execution_count": 9,
   "metadata": {},
   "outputs": [
    {
     "data": {
      "text/html": [
       "<div>\n",
       "<style scoped>\n",
       "    .dataframe tbody tr th:only-of-type {\n",
       "        vertical-align: middle;\n",
       "    }\n",
       "\n",
       "    .dataframe tbody tr th {\n",
       "        vertical-align: top;\n",
       "    }\n",
       "\n",
       "    .dataframe thead th {\n",
       "        text-align: right;\n",
       "    }\n",
       "</style>\n",
       "<table border=\"1\" class=\"dataframe\">\n",
       "  <thead>\n",
       "    <tr style=\"text-align: right;\">\n",
       "      <th></th>\n",
       "      <th>age</th>\n",
       "      <th>duration</th>\n",
       "      <th>campaign</th>\n",
       "      <th>pdays</th>\n",
       "      <th>previous</th>\n",
       "      <th>emp.var.rate</th>\n",
       "      <th>cons.price.idx</th>\n",
       "      <th>cons.conf.idx</th>\n",
       "      <th>euribor3m</th>\n",
       "      <th>nr.employed</th>\n",
       "    </tr>\n",
       "  </thead>\n",
       "  <tbody>\n",
       "    <tr>\n",
       "      <th>age</th>\n",
       "      <td>1.000000</td>\n",
       "      <td>-0.000815</td>\n",
       "      <td>0.004468</td>\n",
       "      <td>-0.034381</td>\n",
       "      <td>0.024384</td>\n",
       "      <td>-0.000395</td>\n",
       "      <td>0.000870</td>\n",
       "      <td>0.129366</td>\n",
       "      <td>0.010745</td>\n",
       "      <td>-0.017755</td>\n",
       "    </tr>\n",
       "    <tr>\n",
       "      <th>duration</th>\n",
       "      <td>-0.000815</td>\n",
       "      <td>1.000000</td>\n",
       "      <td>-0.071633</td>\n",
       "      <td>-0.047560</td>\n",
       "      <td>0.020608</td>\n",
       "      <td>-0.027993</td>\n",
       "      <td>0.005275</td>\n",
       "      <td>-0.008194</td>\n",
       "      <td>-0.032926</td>\n",
       "      <td>-0.044724</td>\n",
       "    </tr>\n",
       "    <tr>\n",
       "      <th>campaign</th>\n",
       "      <td>0.004468</td>\n",
       "      <td>-0.071633</td>\n",
       "      <td>1.000000</td>\n",
       "      <td>0.052574</td>\n",
       "      <td>-0.079122</td>\n",
       "      <td>0.150711</td>\n",
       "      <td>0.127855</td>\n",
       "      <td>-0.013809</td>\n",
       "      <td>0.135091</td>\n",
       "      <td>0.144052</td>\n",
       "    </tr>\n",
       "    <tr>\n",
       "      <th>pdays</th>\n",
       "      <td>-0.034381</td>\n",
       "      <td>-0.047560</td>\n",
       "      <td>0.052574</td>\n",
       "      <td>1.000000</td>\n",
       "      <td>-0.587512</td>\n",
       "      <td>0.271022</td>\n",
       "      <td>0.078899</td>\n",
       "      <td>-0.091344</td>\n",
       "      <td>0.296921</td>\n",
       "      <td>0.372620</td>\n",
       "    </tr>\n",
       "    <tr>\n",
       "      <th>previous</th>\n",
       "      <td>0.024384</td>\n",
       "      <td>0.020608</td>\n",
       "      <td>-0.079122</td>\n",
       "      <td>-0.587512</td>\n",
       "      <td>1.000000</td>\n",
       "      <td>-0.420520</td>\n",
       "      <td>-0.203151</td>\n",
       "      <td>-0.050947</td>\n",
       "      <td>-0.454530</td>\n",
       "      <td>-0.501358</td>\n",
       "    </tr>\n",
       "    <tr>\n",
       "      <th>emp.var.rate</th>\n",
       "      <td>-0.000395</td>\n",
       "      <td>-0.027993</td>\n",
       "      <td>0.150711</td>\n",
       "      <td>0.271022</td>\n",
       "      <td>-0.420520</td>\n",
       "      <td>1.000000</td>\n",
       "      <td>0.775331</td>\n",
       "      <td>0.195953</td>\n",
       "      <td>0.972242</td>\n",
       "      <td>0.906965</td>\n",
       "    </tr>\n",
       "    <tr>\n",
       "      <th>cons.price.idx</th>\n",
       "      <td>0.000870</td>\n",
       "      <td>0.005275</td>\n",
       "      <td>0.127855</td>\n",
       "      <td>0.078899</td>\n",
       "      <td>-0.203151</td>\n",
       "      <td>0.775331</td>\n",
       "      <td>1.000000</td>\n",
       "      <td>0.058916</td>\n",
       "      <td>0.688217</td>\n",
       "      <td>0.522020</td>\n",
       "    </tr>\n",
       "    <tr>\n",
       "      <th>cons.conf.idx</th>\n",
       "      <td>0.129366</td>\n",
       "      <td>-0.008194</td>\n",
       "      <td>-0.013809</td>\n",
       "      <td>-0.091344</td>\n",
       "      <td>-0.050947</td>\n",
       "      <td>0.195953</td>\n",
       "      <td>0.058916</td>\n",
       "      <td>1.000000</td>\n",
       "      <td>0.277603</td>\n",
       "      <td>0.100436</td>\n",
       "    </tr>\n",
       "    <tr>\n",
       "      <th>euribor3m</th>\n",
       "      <td>0.010745</td>\n",
       "      <td>-0.032926</td>\n",
       "      <td>0.135091</td>\n",
       "      <td>0.296921</td>\n",
       "      <td>-0.454530</td>\n",
       "      <td>0.972242</td>\n",
       "      <td>0.688217</td>\n",
       "      <td>0.277603</td>\n",
       "      <td>1.000000</td>\n",
       "      <td>0.945155</td>\n",
       "    </tr>\n",
       "    <tr>\n",
       "      <th>nr.employed</th>\n",
       "      <td>-0.017755</td>\n",
       "      <td>-0.044724</td>\n",
       "      <td>0.144052</td>\n",
       "      <td>0.372620</td>\n",
       "      <td>-0.501358</td>\n",
       "      <td>0.906965</td>\n",
       "      <td>0.522020</td>\n",
       "      <td>0.100436</td>\n",
       "      <td>0.945155</td>\n",
       "      <td>1.000000</td>\n",
       "    </tr>\n",
       "  </tbody>\n",
       "</table>\n",
       "</div>"
      ],
      "text/plain": [
       "                     age  duration  campaign     pdays  previous  \\\n",
       "age             1.000000 -0.000815  0.004468 -0.034381  0.024384   \n",
       "duration       -0.000815  1.000000 -0.071633 -0.047560  0.020608   \n",
       "campaign        0.004468 -0.071633  1.000000  0.052574 -0.079122   \n",
       "pdays          -0.034381 -0.047560  0.052574  1.000000 -0.587512   \n",
       "previous        0.024384  0.020608 -0.079122 -0.587512  1.000000   \n",
       "emp.var.rate   -0.000395 -0.027993  0.150711  0.271022 -0.420520   \n",
       "cons.price.idx  0.000870  0.005275  0.127855  0.078899 -0.203151   \n",
       "cons.conf.idx   0.129366 -0.008194 -0.013809 -0.091344 -0.050947   \n",
       "euribor3m       0.010745 -0.032926  0.135091  0.296921 -0.454530   \n",
       "nr.employed    -0.017755 -0.044724  0.144052  0.372620 -0.501358   \n",
       "\n",
       "                emp.var.rate  cons.price.idx  cons.conf.idx  euribor3m  \\\n",
       "age                -0.000395        0.000870       0.129366   0.010745   \n",
       "duration           -0.027993        0.005275      -0.008194  -0.032926   \n",
       "campaign            0.150711        0.127855      -0.013809   0.135091   \n",
       "pdays               0.271022        0.078899      -0.091344   0.296921   \n",
       "previous           -0.420520       -0.203151      -0.050947  -0.454530   \n",
       "emp.var.rate        1.000000        0.775331       0.195953   0.972242   \n",
       "cons.price.idx      0.775331        1.000000       0.058916   0.688217   \n",
       "cons.conf.idx       0.195953        0.058916       1.000000   0.277603   \n",
       "euribor3m           0.972242        0.688217       0.277603   1.000000   \n",
       "nr.employed         0.906965        0.522020       0.100436   0.945155   \n",
       "\n",
       "                nr.employed  \n",
       "age               -0.017755  \n",
       "duration          -0.044724  \n",
       "campaign           0.144052  \n",
       "pdays              0.372620  \n",
       "previous          -0.501358  \n",
       "emp.var.rate       0.906965  \n",
       "cons.price.idx     0.522020  \n",
       "cons.conf.idx      0.100436  \n",
       "euribor3m          0.945155  \n",
       "nr.employed        1.000000  "
      ]
     },
     "execution_count": 9,
     "metadata": {},
     "output_type": "execute_result"
    }
   ],
   "source": [
    "# Angka korelasi antar kolom\n",
    "df.corr()"
   ]
  },
  {
   "cell_type": "code",
   "execution_count": 10,
   "metadata": {},
   "outputs": [
    {
     "data": {
      "image/png": "[encoded data removed]",
      "text/plain": [
       "<Figure size 432x288 with 1 Axes>"
      ]
     },
     "metadata": {
      "needs_background": "light"
     },
     "output_type": "display_data"
    }
   ],
   "source": [
    "df['y'].value_counts().plot.bar(color='orange');\n",
    "\n",
    "plt.title('Perbandingan y');\n",
    "plt.xlabel('Kategori');\n",
    "plt.ylabel('Jumlah');"
   ]
  },
  {
   "cell_type": "markdown",
   "metadata": {},
   "source": [
    "Dari grafik diatas terlihat jumlah client yang *subscribe* deposito jauh lebih sedikit dibanding yang tidak *subscribe*"
   ]
  },
  {
   "cell_type": "markdown",
   "metadata": {},
   "source": [
    "# Modelling Machine Learning"
   ]
  },
  {
   "cell_type": "code",
   "execution_count": 11,
   "metadata": {},
   "outputs": [],
   "source": [
    "# pisahkan fitur dan label\n",
    "X=df.drop(['y'], axis=1)\n",
    "y=df['y']\n",
    "\n",
    "# split data\n",
    "X_train, X_test, y_train, y_test = train_test_split(X, y, test_size=0.2, random_state=17)"
   ]
  },
  {
   "cell_type": "code",
   "execution_count": 12,
   "metadata": {},
   "outputs": [
    {
     "name": "stdout",
     "output_type": "stream",
     "text": [
      "<class 'pandas.core.frame.DataFrame'>\n",
      "Int64Index: 32947 entries, 5882 to 10864\n",
      "Data columns (total 20 columns):\n",
      " #   Column          Non-Null Count  Dtype  \n",
      "---  ------          --------------  -----  \n",
      " 0   age             32947 non-null  int64  \n",
      " 1   job             32947 non-null  object \n",
      " 2   marital         32947 non-null  object \n",
      " 3   education       32947 non-null  object \n",
      " 4   default         32947 non-null  object \n",
      " 5   housing         32947 non-null  object \n",
      " 6   loan            32947 non-null  object \n",
      " 7   contact         32947 non-null  object \n",
      " 8   month           32947 non-null  object \n",
      " 9   day_of_week     32947 non-null  object \n",
      " 10  duration        32947 non-null  int64  \n",
      " 11  campaign        32947 non-null  int64  \n",
      " 12  pdays           32947 non-null  int64  \n",
      " 13  previous        32947 non-null  int64  \n",
      " 14  poutcome        32947 non-null  object \n",
      " 15  emp.var.rate    32947 non-null  float64\n",
      " 16  cons.price.idx  32947 non-null  float64\n",
      " 17  cons.conf.idx   32947 non-null  float64\n",
      " 18  euribor3m       32947 non-null  float64\n",
      " 19  nr.employed     32947 non-null  float64\n",
      "dtypes: float64(5), int64(5), object(10)\n",
      "memory usage: 5.3+ MB\n"
     ]
    }
   ],
   "source": [
    "X_train.info()"
   ]
  },
  {
   "cell_type": "code",
   "execution_count": 13,
   "metadata": {},
   "outputs": [],
   "source": [
    "num_cols=['age','duration','campaign','pdays','previous','emp.var.rate','cons.price.idx','cons.conf.idx','euribor3m','nr.employed']\n",
    "cat_cols=['job','marital','education','default','housing','loan','contact','month','day_of_week','poutcome']"
   ]
  },
  {
   "cell_type": "markdown",
   "metadata": {},
   "source": [
    "Pada proses , kolom dibagi kedalam 2 kelompok, yaitu numerik dan kategorik. Hal ini diperlukan karena kedua jenis kolom akan diperlakukan dengan sedikit berbeda"
   ]
  },
  {
   "cell_type": "markdown",
   "metadata": {},
   "source": [
    "### Membuat Pipeline"
   ]
  },
  {
   "cell_type": "code",
   "execution_count": 14,
   "metadata": {},
   "outputs": [],
   "source": [
    "# kolom numerik pada pipeline akan di imputasi dengan SimpleImputer dan di scaling dengan StandardScaler\n",
    "num_pipeline = make_pipeline(SimpleImputer(strategy='median'), StandardScaler())\n",
    "\n",
    "# kolom kategorik pada pipeline akan di encoding dengan OneHotEncoder\n",
    "cat_pipeline=make_pipeline(OneHotEncoder())\n",
    "\n",
    "# 2 proses diatas akan digabung menjadi satu di pipeline dengan ColumnTransformer\n",
    "data_preprocess = ColumnTransformer([\n",
    "    ('preprocess_num', num_pipeline, num_cols),\n",
    "    ('preprocess_cat', cat_pipeline, cat_cols)\n",
    "])\n",
    "\n",
    "# Buat pipeline dengan berbagai model\n",
    "ml_pipeline_LogReg = make_pipeline(data_preprocess, LogisticRegression())\n",
    "ml_pipeline_KNN = make_pipeline(data_preprocess, KNeighborsClassifier())\n",
    "ml_pipeline_SVM = make_pipeline(data_preprocess, LinearSVC())\n",
    "ml_pipeline_DT = make_pipeline(data_preprocess, DecisionTreeClassifier())\n",
    "ml_pipeline_RF = make_pipeline(data_preprocess, RandomForestClassifier())\n",
    "ml_pipeline_NB = make_pipeline(data_preprocess, GaussianNB())"
   ]
  },
  {
   "cell_type": "code",
   "execution_count": 15,
   "metadata": {},
   "outputs": [
    {
     "name": "stderr",
     "output_type": "stream",
     "text": [
      "C:\\Users\\acer\\anaconda3\\lib\\site-packages\\sklearn\\linear_model\\_logistic.py:763: ConvergenceWarning: lbfgs failed to converge (status=1):\n",
      "STOP: TOTAL NO. of ITERATIONS REACHED LIMIT.\n",
      "\n",
      "Increase the number of iterations (max_iter) or scale the data as shown in:\n",
      "    https://scikit-learn.org/stable/modules/preprocessing.html\n",
      "Please also refer to the documentation for alternative solver options:\n",
      "    https://scikit-learn.org/stable/modules/linear_model.html#logistic-regression\n",
      "  n_iter_i = _check_optimize_result(\n",
      "C:\\Users\\acer\\anaconda3\\lib\\site-packages\\sklearn\\svm\\_base.py:985: ConvergenceWarning: Liblinear failed to converge, increase the number of iterations.\n",
      "  warnings.warn(\"Liblinear failed to converge, increase \"\n"
     ]
    },
    {
     "data": {
      "text/plain": [
       "Pipeline(steps=[('columntransformer',\n",
       "                 ColumnTransformer(transformers=[('preprocess_num',\n",
       "                                                  Pipeline(steps=[('simpleimputer',\n",
       "                                                                   SimpleImputer(strategy='median')),\n",
       "                                                                  ('standardscaler',\n",
       "                                                                   StandardScaler())]),\n",
       "                                                  ['age', 'duration',\n",
       "                                                   'campaign', 'pdays',\n",
       "                                                   'previous', 'emp.var.rate',\n",
       "                                                   'cons.price.idx',\n",
       "                                                   'cons.conf.idx', 'euribor3m',\n",
       "                                                   'nr.employed']),\n",
       "                                                 ('preprocess_cat',\n",
       "                                                  Pipeline(steps=[('onehotencoder',\n",
       "                                                                   OneHotEncoder())]),\n",
       "                                                  ['job', 'marital',\n",
       "                                                   'education', 'default',\n",
       "                                                   'housing', 'loan', 'contact',\n",
       "                                                   'month', 'day_of_week',\n",
       "                                                   'poutcome'])])),\n",
       "                ('gaussiannb', GaussianNB())])"
      ]
     },
     "execution_count": 15,
     "metadata": {},
     "output_type": "execute_result"
    }
   ],
   "source": [
    "# train data dengan berbagai model\n",
    "ml_pipeline_LogReg.fit(X_train, y_train)\n",
    "ml_pipeline_KNN.fit(X_train, y_train)\n",
    "ml_pipeline_SVM.fit(X_train, y_train)\n",
    "ml_pipeline_DT.fit(X_train, y_train)\n",
    "ml_pipeline_RF.fit(X_train, y_train)\n",
    "ml_pipeline_NB.fit(X_train, y_train)"
   ]
  },
  {
   "cell_type": "markdown",
   "metadata": {},
   "source": [
    "### Logistic Regression"
   ]
  },
  {
   "cell_type": "code",
   "execution_count": 17,
   "metadata": {},
   "outputs": [
    {
     "name": "stdout",
     "output_type": "stream",
     "text": [
      "[[7086  232]\n",
      " [ 537  382]]\n",
      "              precision    recall  f1-score   support\n",
      "\n",
      "          no       0.93      0.97      0.95      7318\n",
      "         yes       0.62      0.42      0.50       919\n",
      "\n",
      "    accuracy                           0.91      8237\n",
      "   macro avg       0.78      0.69      0.72      8237\n",
      "weighted avg       0.90      0.91      0.90      8237\n",
      "\n"
     ]
    }
   ],
   "source": [
    "y_pred_LogReg = ml_pipeline_LogReg.predict(X_test)\n",
    "print(confusion_matrix(y_test, y_pred_LogReg))\n",
    "print(classification_report(y_test, y_pred_LogReg))"
   ]
  },
  {
   "cell_type": "markdown",
   "metadata": {},
   "source": [
    "Model Logistic Regression menghasilkan f1 score yang lumayan tinggi pada label no sedangkan pada label yes nilanya rendah"
   ]
  },
  {
   "cell_type": "markdown",
   "metadata": {},
   "source": [
    "### K-Nearest Neighbors"
   ]
  },
  {
   "cell_type": "code",
   "execution_count": 18,
   "metadata": {},
   "outputs": [
    {
     "name": "stdout",
     "output_type": "stream",
     "text": [
      "[[7036  282]\n",
      " [ 518  401]]\n",
      "              precision    recall  f1-score   support\n",
      "\n",
      "          no       0.93      0.96      0.95      7318\n",
      "         yes       0.59      0.44      0.50       919\n",
      "\n",
      "    accuracy                           0.90      8237\n",
      "   macro avg       0.76      0.70      0.72      8237\n",
      "weighted avg       0.89      0.90      0.90      8237\n",
      "\n"
     ]
    }
   ],
   "source": [
    "y_pred_KNN = ml_pipeline_KNN.predict(X_test)\n",
    "print(confusion_matrix(y_test, y_pred_KNN))\n",
    "print(classification_report(y_test, y_pred_KNN))\n"
   ]
  },
  {
   "cell_type": "markdown",
   "metadata": {},
   "source": [
    "Model K-Nearest Neighbors (KNN) menghasilkan f1 score yang mirip dengan model Logistic Regression, namun waktu pemrosesannya jauh lebih lambat"
   ]
  },
  {
   "cell_type": "markdown",
   "metadata": {},
   "source": [
    "### Support Vector Machine"
   ]
  },
  {
   "cell_type": "code",
   "execution_count": 19,
   "metadata": {},
   "outputs": [
    {
     "name": "stdout",
     "output_type": "stream",
     "text": [
      "[[7138  180]\n",
      " [ 584  335]]\n",
      "              precision    recall  f1-score   support\n",
      "\n",
      "          no       0.92      0.98      0.95      7318\n",
      "         yes       0.65      0.36      0.47       919\n",
      "\n",
      "    accuracy                           0.91      8237\n",
      "   macro avg       0.79      0.67      0.71      8237\n",
      "weighted avg       0.89      0.91      0.90      8237\n",
      "\n"
     ]
    }
   ],
   "source": [
    "y_pred_SVM = ml_pipeline_SVM.predict(X_test)\n",
    "print(confusion_matrix(y_test, y_pred_SVM))\n",
    "print(classification_report(y_test, y_pred_SVM))"
   ]
  },
  {
   "cell_type": "markdown",
   "metadata": {},
   "source": [
    "Dalam kasus ini model Support Vector Machine tidak lebih baik dari model sebelumnya, meskipun waktu pemrosesannya tidak selama model KNN"
   ]
  },
  {
   "cell_type": "markdown",
   "metadata": {},
   "source": [
    "### Decision Tree"
   ]
  },
  {
   "cell_type": "code",
   "execution_count": 20,
   "metadata": {},
   "outputs": [
    {
     "name": "stdout",
     "output_type": "stream",
     "text": [
      "[[6874  444]\n",
      " [ 398  521]]\n",
      "              precision    recall  f1-score   support\n",
      "\n",
      "          no       0.95      0.94      0.94      7318\n",
      "         yes       0.54      0.57      0.55       919\n",
      "\n",
      "    accuracy                           0.90      8237\n",
      "   macro avg       0.74      0.75      0.75      8237\n",
      "weighted avg       0.90      0.90      0.90      8237\n",
      "\n"
     ]
    }
   ],
   "source": [
    "y_pred_DT = ml_pipeline_DT.predict(X_test)\n",
    "print(confusion_matrix(y_test, y_pred_DT))\n",
    "print(classification_report(y_test, y_pred_DT))"
   ]
  },
  {
   "cell_type": "markdown",
   "metadata": {},
   "source": [
    "Hasil dari model Decision Tree lebih baik dari model sebelumnya, terutama dalam memproses label yes dan waktu pemrosesannya cepat"
   ]
  },
  {
   "cell_type": "markdown",
   "metadata": {},
   "source": [
    "### Random Forest"
   ]
  },
  {
   "cell_type": "code",
   "execution_count": 21,
   "metadata": {},
   "outputs": [
    {
     "name": "stdout",
     "output_type": "stream",
     "text": [
      "[[7096  222]\n",
      " [ 489  430]]\n",
      "              precision    recall  f1-score   support\n",
      "\n",
      "          no       0.94      0.97      0.95      7318\n",
      "         yes       0.66      0.47      0.55       919\n",
      "\n",
      "    accuracy                           0.91      8237\n",
      "   macro avg       0.80      0.72      0.75      8237\n",
      "weighted avg       0.90      0.91      0.91      8237\n",
      "\n"
     ]
    }
   ],
   "source": [
    "y_pred_RF = ml_pipeline_RF.predict(X_test)\n",
    "print(confusion_matrix(y_test, y_pred_RF))\n",
    "print(classification_report(y_test, y_pred_RF))"
   ]
  },
  {
   "cell_type": "markdown",
   "metadata": {},
   "source": [
    "Sejauh ini model Random Forest lebih baik dari model sebelumnya secara keseluruhan, walapun untuk bagian label yes masih tergolong rendah"
   ]
  },
  {
   "cell_type": "markdown",
   "metadata": {},
   "source": [
    "### Naive Bayes"
   ]
  },
  {
   "cell_type": "code",
   "execution_count": 22,
   "metadata": {},
   "outputs": [
    {
     "name": "stdout",
     "output_type": "stream",
     "text": [
      "[[6008 1310]\n",
      " [ 290  629]]\n",
      "              precision    recall  f1-score   support\n",
      "\n",
      "          no       0.95      0.82      0.88      7318\n",
      "         yes       0.32      0.68      0.44       919\n",
      "\n",
      "    accuracy                           0.81      8237\n",
      "   macro avg       0.64      0.75      0.66      8237\n",
      "weighted avg       0.88      0.81      0.83      8237\n",
      "\n"
     ]
    }
   ],
   "source": [
    "y_pred_NB = ml_pipeline_NB.predict(X_test)\n",
    "print(confusion_matrix(y_test, y_pred_NB))\n",
    "print(classification_report(y_test, y_pred_NB))"
   ]
  },
  {
   "cell_type": "markdown",
   "metadata": {},
   "source": [
    "Model Naive Bayes menghasilkan f1 score yang lebih rendah pada kedua label dibanding model lainnya. Mungkin model naive bayes memang tidak cocok digunakan untuk kasus seperti ini"
   ]
  },
  {
   "cell_type": "markdown",
   "metadata": {},
   "source": [
    "# Conclusion"
   ]
  },
  {
   "cell_type": "markdown",
   "metadata": {},
   "source": [
    "Dari seluruh  percobaan yang dilakukan, model Random Forest yang paling baik dari semua model yang ada. Selain f-1 score nya yang tinggi, model ini juga memiliki waktu pemrosesannya yang cepat.\n",
    "\n",
    "Walaupun dari seluruh percobaan untuk f-1 score pada label yes masih tergolong rendah, namun hal itu bisa dipahami sehubungan dengan data training yang perbandingan antara label yes dan no sangat berbanding jauh.\n",
    "\n",
    "Selain itu, untuk kasus ini kondisi false positive pada label yes dan false negative pada label no sebaiknya lebih diperhatikan. Karena akan lebih baik bagi pihak bank untuk menganggap client belum *subscribe* deposito daripada menganggapnya sudah melakukannya. Karena dengan menganggap client belum *subscribe* deposito, maka client tersebut bisa di hubungi kembali oleh pihak bank untuk memastikannya."
   ]
  }
 ],
 "metadata": {
  "interpreter": {
   "hash": "3a7853f465984184c2db926f12cf0514f49bd82ebd08c64e7d47bb74214f72b4"
  },
  "kernelspec": {
   "display_name": "Python 3.9.7 ('base')",
   "language": "python",
   "name": "python3"
  },
  "language_info": {
   "codemirror_mode": {
    "name": "ipython",
    "version": 3
   },
   "file_extension": ".py",
   "mimetype": "text/x-python",
   "name": "python",
   "nbconvert_exporter": "python",
   "pygments_lexer": "ipython3",
   "version": "3.9.7"
  },
  "orig_nbformat": 4
 },
 "nbformat": 4,
 "nbformat_minor": 2
}
